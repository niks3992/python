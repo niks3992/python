{
  "nbformat": 4,
  "nbformat_minor": 0,
  "metadata": {
    "colab": {
      "provenance": [],
      "authorship_tag": "ABX9TyPaEPiRZnEAqAqWk2KSYLzb",
      "include_colab_link": true
    },
    "kernelspec": {
      "name": "python3",
      "display_name": "Python 3"
    },
    "language_info": {
      "name": "python"
    }
  },
  "cells": [
    {
      "cell_type": "markdown",
      "metadata": {
        "id": "view-in-github",
        "colab_type": "text"
      },
      "source": [
        "<a href=\"https://colab.research.google.com/github/niks3992/python/blob/main/Nikita_Arora_PythonLab1.ipynb\" target=\"_parent\"><img src=\"https://colab.research.google.com/assets/colab-badge.svg\" alt=\"Open In Colab\"/></a>"
      ]
    },
    {
      "cell_type": "markdown",
      "source": [
        "# **Python-Assignment 1**"
      ],
      "metadata": {
        "id": "6_I-FPvngBMw"
      }
    },
    {
      "cell_type": "markdown",
      "source": [
        "**1. Write a python program to calculate the area of a circle. Print area\n",
        "with 2 decimal places**"
      ],
      "metadata": {
        "id": "cDKWU5iIHPPF"
      }
    },
    {
      "cell_type": "code",
      "execution_count": null,
      "metadata": {
        "colab": {
          "base_uri": "https://localhost:8080/"
        },
        "id": "J_OGBA9L_o3D",
        "outputId": "5b58d21d-aedc-446a-c4f1-afce79952a25"
      },
      "outputs": [
        {
          "output_type": "stream",
          "name": "stdout",
          "text": [
            "enter raidus of circle 3.2\n",
            "The area of circle of raidus 3.2 cm is 32.17  cm.sq\n"
          ]
        }
      ],
      "source": [
        "import math\n",
        "\n",
        "r= float(input(\"enter raidus of circle \"))\n",
        "area= math.pi*r*r\n",
        "print(\"The area of circle of raidus\",r,\"cm is\",'%.2f' % area,\" cm.sq\")"
      ]
    },
    {
      "cell_type": "markdown",
      "source": [
        "**2. Write a Python program to calculate area and perimeter of a rectangle**"
      ],
      "metadata": {
        "id": "88lhFptTHTUq"
      }
    },
    {
      "cell_type": "code",
      "source": [
        "l= float(input(\"enter length of rectangle \"))\n",
        "b= float(input(\"enter breadth of rectangle \"))\n",
        "area= l*b\n",
        "perimeter = 2*(l+b)\n",
        "print(\"The area of rectangle is\",'%.2f' % area,\" cm.sq\")\n",
        "print(\"The perimeter of rectangle is\",'%.2f' % perimeter,\" cm.\")"
      ],
      "metadata": {
        "colab": {
          "base_uri": "https://localhost:8080/"
        },
        "id": "165KraDyEe_a",
        "outputId": "b880b686-0090-4de4-df8d-869c01ad674b"
      },
      "execution_count": null,
      "outputs": [
        {
          "output_type": "stream",
          "name": "stdout",
          "text": [
            "enter length of rectangle 10\n",
            "enter breadth of rectangle 5\n",
            "The area of rectangle is 50.00  cm.sq\n",
            "The perimeter of rectangle is 30.00  cm.\n"
          ]
        }
      ]
    },
    {
      "cell_type": "markdown",
      "source": [
        "**3. Write a python program to read your name from keyboard as first name\n",
        "and last name and display as “Hi Full name”**"
      ],
      "metadata": {
        "id": "nM2hf3-2Ib5B"
      }
    },
    {
      "cell_type": "code",
      "source": [
        "first= input(\"Enter your first name \")\n",
        "last= input(\"Enter your last name \")\n",
        "print(\"Hi\",first,last)\n"
      ],
      "metadata": {
        "colab": {
          "base_uri": "https://localhost:8080/"
        },
        "id": "ogzEX5NIFjjZ",
        "outputId": "bc42f438-e264-4537-b007-53cba278e626"
      },
      "execution_count": null,
      "outputs": [
        {
          "output_type": "stream",
          "name": "stdout",
          "text": [
            "Enter your first name Nikita\n",
            "Enter your last name Arora\n",
            "Hi Nikita Arora\n"
          ]
        }
      ]
    },
    {
      "cell_type": "markdown",
      "source": [
        " **4. Python Program to Convert Kilometers to Miles**"
      ],
      "metadata": {
        "id": "3QZnoISYJFXO"
      }
    },
    {
      "cell_type": "code",
      "source": [
        "km= float(input(\"Enter distance in K.M.\"))\n",
        "miles=0.621371192*km\n",
        "print(km,\" km in miles is \",miles)\n"
      ],
      "metadata": {
        "colab": {
          "base_uri": "https://localhost:8080/"
        },
        "id": "IkaYeaULJMQa",
        "outputId": "a7c8c759-0c54-444e-ba7a-3e352f6ecf9d"
      },
      "execution_count": null,
      "outputs": [
        {
          "output_type": "stream",
          "name": "stdout",
          "text": [
            "Enter distance in K.M.21\n",
            "21.0  km in miles is  13.048795032000001\n"
          ]
        }
      ]
    },
    {
      "cell_type": "markdown",
      "source": [
        "**5. Python Program to Convert Celsius To Fahrenheit**"
      ],
      "metadata": {
        "id": "U72UtcLIKMFk"
      }
    },
    {
      "cell_type": "code",
      "source": [
        "c= float(input(\"Enter temperature in Celsius \"))\n",
        "feh =(c * 9/5) + 32\n",
        "print(c,\" C in fahrenheit is \",feh,\"F\")"
      ],
      "metadata": {
        "colab": {
          "base_uri": "https://localhost:8080/"
        },
        "id": "3RdEsxsYKR3p",
        "outputId": "601eaa5c-2214-4d7d-d780-d9d780d05f84"
      },
      "execution_count": null,
      "outputs": [
        {
          "output_type": "stream",
          "name": "stdout",
          "text": [
            "Enter temperature in Celsius 55\n",
            "55.0  C in fahrenheit is  131.0 F\n"
          ]
        }
      ]
    },
    {
      "cell_type": "markdown",
      "source": [
        "**6. Python Program to Find the Square Root(use math.sqrt function/\n",
        "exponentiation)**"
      ],
      "metadata": {
        "id": "Euri-Z7BLIZ4"
      }
    },
    {
      "cell_type": "code",
      "source": [
        "import math\n",
        "\n",
        "b= int(input(\"enter square of a number \"))\n",
        "print(\"The square root of\",b,\"is \",math.sqrt(b))"
      ],
      "metadata": {
        "colab": {
          "base_uri": "https://localhost:8080/"
        },
        "id": "JSAMUrhCLQpC",
        "outputId": "361c6236-cf0a-4fcf-e0d0-86bb7ec3f9f3"
      },
      "execution_count": null,
      "outputs": [
        {
          "output_type": "stream",
          "name": "stdout",
          "text": [
            "enter square of a number 169\n",
            "The square root of 169 is  13.0\n"
          ]
        }
      ]
    },
    {
      "cell_type": "markdown",
      "source": [
        "**7. Write a python program to display working of all arithmetic operations.**"
      ],
      "metadata": {
        "id": "q4BWZEQ5MROk"
      }
    },
    {
      "cell_type": "code",
      "source": [
        "first= int(input(\"Enter first number \"))\n",
        "second= int(input(\"Enter second number \"))\n",
        "print(\"The sum of\",first,\"and\",second,\"is \",first+second)\n",
        "print(\"The difference of\",first,\"and\",second,\"is \",first-second)\n",
        "print(\"The multiplication of\",first,\"and\",second,\"is \",first*second)\n",
        "print(\"The division of\",first,\"and\",second,\"is \",first/second)\n",
        "print(\"The Floor division of\",first,\"and\",second,\"is \",first//second)"
      ],
      "metadata": {
        "colab": {
          "base_uri": "https://localhost:8080/"
        },
        "id": "B1JaHsNmMYCb",
        "outputId": "0225f8f3-acbf-4efc-e56f-da38952b63c7"
      },
      "execution_count": null,
      "outputs": [
        {
          "output_type": "stream",
          "name": "stdout",
          "text": [
            "Enter first number 21\n",
            "Enter second number 5\n",
            "The sum of 21 and 5 is  26\n",
            "The difference of 21 and 5 is  16\n",
            "The multiplication of 21 and 5 is  105\n",
            "The division of 21 and 5 is  4.2\n",
            "The Floor division of 21 and 5 is  4\n"
          ]
        }
      ]
    },
    {
      "cell_type": "markdown",
      "source": [
        "**Write Python Program to Solve Quadratic Equation (Use cmath.sqrt\n",
        "function)**"
      ],
      "metadata": {
        "id": "yRSuCMPlOJPS"
      }
    },
    {
      "cell_type": "code",
      "source": [
        "import math\n",
        "print(\"Quadratic Equation:ax^2 +bx+c\")\n",
        "a= int(input(\"Enter a \"))\n",
        "b= int(input(\"Enter b \"))\n",
        "c= int(input(\"Enter c \"))\n",
        "if a == 0:\n",
        "  print(\"Improper value\" )\n",
        "else:\n",
        "  dis = b * b - 4 * a * c\n",
        "  sqrt_val = math.sqrt(abs(dis))\n",
        "  if dis > 0:\n",
        "          print(\"real and different roots\")\n",
        "          print((-b + sqrt_val)/(2 * a))\n",
        "          print((-b - sqrt_val)/(2 * a))\n",
        "\n",
        "  elif dis == 0:\n",
        "          print(\"real and same roots\")\n",
        "          print(-b / (2 * a))\n",
        "\n",
        "  else:\n",
        "         print(\"Complex Roots\")\n",
        "         print(- b / (2 * a), \"+ i\", '%.2f' % sqrt_val)\n",
        "         print(- b / (2 * a), \"- i\", '%.2f' % sqrt_val)"
      ],
      "metadata": {
        "colab": {
          "base_uri": "https://localhost:8080/"
        },
        "id": "hxDFcX7EOQVs",
        "outputId": "ad375c79-ea60-4b36-ed8a-65284a6d4a5e"
      },
      "execution_count": null,
      "outputs": [
        {
          "output_type": "stream",
          "name": "stdout",
          "text": [
            "Quadratic Equation:ax^2 +bx+c\n",
            "Enter a 2\n",
            "Enter b 5\n",
            "Enter c 10\n",
            "Complex Roots\n",
            "-1.25 + i 7.42\n",
            "-1.25 - i 7.42\n"
          ]
        }
      ]
    },
    {
      "cell_type": "markdown",
      "source": [
        "**9. Write Python Program to Generate a Random Number(Use\n",
        "random.randint function)**"
      ],
      "metadata": {
        "id": "MOp7v77_VnkU"
      }
    },
    {
      "cell_type": "code",
      "source": [
        "import random\n",
        "l=int(input(\"enter lower range \"))\n",
        "u=int(input(\"enter upper range \"))\n",
        "print(\"Random number between\",l,\" to \",u,\" is \",random.randint(l,u))"
      ],
      "metadata": {
        "colab": {
          "base_uri": "https://localhost:8080/"
        },
        "id": "nvH0G_FCVrZb",
        "outputId": "d8a55a89-79f3-4516-e523-7d4f4c34485e"
      },
      "execution_count": null,
      "outputs": [
        {
          "output_type": "stream",
          "name": "stdout",
          "text": [
            "enter lower range 1\n",
            "enter upper range 56\n",
            "Random number between 1  to  56  is  5\n"
          ]
        }
      ]
    },
    {
      "cell_type": "markdown",
      "source": [
        "**10. A store charges Rs 120 per item if you buy less than 10 items. If you\n",
        "buy between 10 and 99 items, the cost is Rs 100 per item.If you buy 100\n",
        "or more items, the cost is Rs 70 per item. Write a program that asks the\n",
        "user how many items they are buying and the total cost**"
      ],
      "metadata": {
        "id": "4pmbcqX6WXvC"
      }
    },
    {
      "cell_type": "code",
      "source": [
        "count=int(input(\"Enter number of item purchased \"))\n",
        "if (count > 0 and count < 10) :\n",
        "  total = 120*count\n",
        "  print(\"Total amount of\",count,\" is Rs.\",total)\n",
        "elif (count >= 10 and count < 100):\n",
        "  total = 100*count\n",
        "  print(\"Total amount of\",count,\" is Rs.\",total)\n",
        "elif count >= 100 :\n",
        "  total = 70*count\n",
        "  print(\"Total amount of\",count,\" is Rs.\",total)\n",
        "else:\n",
        "  print(\"Invalid quantity\")\n"
      ],
      "metadata": {
        "colab": {
          "base_uri": "https://localhost:8080/"
        },
        "id": "Nv70ndMXWkJ0",
        "outputId": "a74bd5f7-dafa-4150-8b69-472cb8489727"
      },
      "execution_count": null,
      "outputs": [
        {
          "output_type": "stream",
          "name": "stdout",
          "text": [
            "Enter number of item purchased 70\n",
            "Total amount of 70  is Rs. 7000\n"
          ]
        }
      ]
    },
    {
      "cell_type": "markdown",
      "source": [
        "**11.Write a Python Program to Check if a Number is Positive, Negative or zero.**"
      ],
      "metadata": {
        "id": "BY0etNE2Zpii"
      }
    },
    {
      "cell_type": "code",
      "source": [
        "dis=int(input(\"Enter a number \"))\n",
        "if dis > 0:\n",
        "          print(\"Number is positive\")\n",
        "elif dis == 0:\n",
        "          print(\"Number is zero\")\n",
        "else:\n",
        "         print(\"Number is negative\")"
      ],
      "metadata": {
        "colab": {
          "base_uri": "https://localhost:8080/"
        },
        "id": "7-pUXxYsZwJb",
        "outputId": "b4aeb2a7-c948-4b50-cfc0-ed291f99cf3c"
      },
      "execution_count": null,
      "outputs": [
        {
          "output_type": "stream",
          "name": "stdout",
          "text": [
            "Enter a number -11\n",
            "Number is negative\n"
          ]
        }
      ]
    },
    {
      "cell_type": "markdown",
      "source": [
        "**12. Write a Python Program to Check if a Number is Odd or Even**"
      ],
      "metadata": {
        "id": "UHqgzhyZarL9"
      }
    },
    {
      "cell_type": "code",
      "source": [
        "n=int(input(\"Enter a number \"))\n",
        "\n",
        "if n%2==0:\n",
        "          print(\"Number is Even\")\n",
        "else:\n",
        "          print(\"Number is Odd\")"
      ],
      "metadata": {
        "colab": {
          "base_uri": "https://localhost:8080/"
        },
        "id": "OvTsZ2Wsauwe",
        "outputId": "16015062-c47f-4baa-a45e-eb05e813d1cf"
      },
      "execution_count": null,
      "outputs": [
        {
          "output_type": "stream",
          "name": "stdout",
          "text": [
            "Enter a number 24\n",
            "Number is Even\n"
          ]
        }
      ]
    },
    {
      "cell_type": "markdown",
      "source": [
        "**13. Write a Python Program to Check Leap Year**"
      ],
      "metadata": {
        "id": "Qf7nj7vJbEjd"
      }
    },
    {
      "cell_type": "code",
      "source": [
        "y=int(input(\"Enter an year \"))\n",
        "\n",
        "if (y%400==0):\n",
        "\t\t\t\tprint(\"It is a leap year\")\n",
        "elif(y%4==0 and y%100 !=0):\n",
        "\t\t    print(\"It is a leap year\")\n",
        "else:\n",
        "\t\t    print(\"It is not a leap year\")"
      ],
      "metadata": {
        "colab": {
          "base_uri": "https://localhost:8080/"
        },
        "id": "qpv9QootbIJC",
        "outputId": "3737d9c9-3d40-42df-e353-09cb7d04737a"
      },
      "execution_count": null,
      "outputs": [
        {
          "output_type": "stream",
          "name": "stdout",
          "text": [
            "Enter an year 1995\n",
            "It is not a leap year\n"
          ]
        }
      ]
    },
    {
      "cell_type": "markdown",
      "source": [
        "**14. Write a Python Program to Find the Largest Among Three Numbers**"
      ],
      "metadata": {
        "id": "ULp3hdjccSoI"
      }
    },
    {
      "cell_type": "code",
      "source": [
        "a=int(input(\"Enter a \"))\n",
        "b=int(input(\"Enter b \"))\n",
        "c=int(input(\"Enter c \"))\n",
        "if (a>b):\n",
        "  if(a>c):\n",
        "    print(a,\" is greatest\")\n",
        "  else:\n",
        "    print(c,\" is greatest\")\n",
        "else:\n",
        "  if(b>c):\n",
        "    print(b,\" is greatest\")\n",
        "  else:\n",
        "    print(c,\" is greatest\")"
      ],
      "metadata": {
        "colab": {
          "base_uri": "https://localhost:8080/"
        },
        "id": "H6f8RTKtcVpQ",
        "outputId": "2fd0ba17-f4f1-4c0b-e47e-1b8dbebc2ef8"
      },
      "execution_count": null,
      "outputs": [
        {
          "output_type": "stream",
          "name": "stdout",
          "text": [
            "Enter a 10\n",
            "Enter b 50\n",
            "Enter c 10\n",
            "50  is greatest\n"
          ]
        }
      ]
    },
    {
      "cell_type": "markdown",
      "source": [
        "**15. Write a to check the number is a multiple of 3 print “Multiple of 3”,if\n",
        "it is a multiple of 7 print “Multiple of 7”, if it is a multiple of both, print\n",
        "multiple of both 3 and 7.**"
      ],
      "metadata": {
        "id": "vtsoFmxhcsHD"
      }
    },
    {
      "cell_type": "code",
      "source": [
        "c=int(input(\"Enter a number \"))\n",
        "if(c%7==0 and c%3==0) :\n",
        "    print(c,\" is a multiple of 7 and 3\")\n",
        "elif(c%7==0) :\n",
        "    print(c,\" is a multiple of 7\")\n",
        "elif(c%3==0):\n",
        "    print(c,\" is a multiple of 3\")\n",
        "else:\n",
        "    print(c,\" is not a multiple of 7 and 3\")"
      ],
      "metadata": {
        "colab": {
          "base_uri": "https://localhost:8080/"
        },
        "id": "kd-TZH7scuDY",
        "outputId": "e543df75-b154-4c78-ed4b-007c6c6001ed"
      },
      "execution_count": null,
      "outputs": [
        {
          "output_type": "stream",
          "name": "stdout",
          "text": [
            "Enter a number 22\n",
            "22  is not a multiple of 7 and 3\n"
          ]
        }
      ]
    }
  ]
}