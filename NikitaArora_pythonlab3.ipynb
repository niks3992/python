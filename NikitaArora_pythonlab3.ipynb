{
  "nbformat": 4,
  "nbformat_minor": 0,
  "metadata": {
    "colab": {
      "provenance": [],
      "authorship_tag": "ABX9TyP4xtRnrRa3kJhTFdhL2omS",
      "include_colab_link": true
    },
    "kernelspec": {
      "name": "python3",
      "display_name": "Python 3"
    },
    "language_info": {
      "name": "python"
    }
  },
  "cells": [
    {
      "cell_type": "markdown",
      "metadata": {
        "id": "view-in-github",
        "colab_type": "text"
      },
      "source": [
        "<a href=\"https://colab.research.google.com/github/niks3992/python/blob/main/NikitaArora_pythonlab3.ipynb\" target=\"_parent\"><img src=\"https://colab.research.google.com/assets/colab-badge.svg\" alt=\"Open In Colab\"/></a>"
      ]
    },
    {
      "cell_type": "markdown",
      "source": [
        "## **Python Assignment 3**"
      ],
      "metadata": {
        "id": "kPLi7IlM_vdK"
      }
    },
    {
      "cell_type": "markdown",
      "source": [
        "Given a dictionary of students and their favourite colours:\n",
        "people={'Arham':'Blue','Lisa':'Yellow',''Vinod:'Purpl e','Jenny':'Pink'}\n",
        "1. Find out how many students are in the list\n",
        "2. Change Lisa’s favourite colour\n",
        "3. Remove 'Jenny' and her favourite colour\n",
        "4. Sort and print students and their favourite colours alphabetically\n",
        "by name"
      ],
      "metadata": {
        "id": "BOJOPHtbOZce"
      }
    },
    {
      "cell_type": "code",
      "execution_count": null,
      "metadata": {
        "colab": {
          "base_uri": "https://localhost:8080/"
        },
        "id": "7YgWFP6AOYts",
        "outputId": "43a04bde-bf83-43ee-b62e-0cbbc7dc915a"
      },
      "outputs": [
        {
          "output_type": "stream",
          "name": "stdout",
          "text": [
            "Number of student are 4\n",
            "{'Arham': 'Blue', 'Lisa': 'red', 'Vinod': 'Purple', 'Jenny': 'Pink'}\n",
            "{'Arham': 'Blue', 'Lisa': 'red', 'Vinod': 'Purple'}\n",
            "Arham : Blue\n",
            "Lisa : red\n",
            "Vinod : Purple\n"
          ]
        }
      ],
      "source": [
        "people={'Arham':'Blue','Lisa':'Yellow','Vinod':'Purple','Jenny':'Pink'}\n",
        "ct=len(people)\n",
        "print(\"Number of student are\",ct)\n",
        "people['Lisa']='red'\n",
        "print(people)\n",
        "del people['Jenny']\n",
        "print(people)\n",
        "people1 =sorted(people.keys())\n",
        "for i in people1:\n",
        "  print(i,\":\",people[i])\n"
      ]
    },
    {
      "cell_type": "markdown",
      "source": [
        "**2. Write a python program Convert two lists into a dictionary**"
      ],
      "metadata": {
        "id": "wdlg-rYKgERY"
      }
    },
    {
      "cell_type": "code",
      "source": [
        "test_keys = eval(input(\"enter list of keys\")) #[\"Rash\", \"Kil\", \"Varsha\"]\n",
        "test_values =eval(input(\"enter list of Values\")) #[1, 4, 5]\n",
        "\n",
        "# Printing original keys-value lists\n",
        "print(\"Original key list is : \",test_keys)\n",
        "print(\"Original value list is : \",test_values)\n",
        "\n",
        "# using naive method\n",
        "# to convert lists to dictionary\n",
        "res = {}\n",
        "for key in test_keys:\n",
        "    for value in test_values:\n",
        "        res[key] = value\n",
        "        test_values.remove(value)\n",
        "        break\n",
        "\n",
        "# Printing resultant dictionary\n",
        "print(\"Resultant dictionary is : \" + str(res))"
      ],
      "metadata": {
        "colab": {
          "base_uri": "https://localhost:8080/"
        },
        "id": "-fy8vFVNgEnX",
        "outputId": "db9ee02b-373f-4120-a076-c3b0eb720949"
      },
      "execution_count": null,
      "outputs": [
        {
          "output_type": "stream",
          "name": "stdout",
          "text": [
            "enter list of keys[\"Rash\", \"Kil\", \"Varsha\"]\n",
            "enter list of Values[1, 4, 5]\n",
            "Original key list is :  ['Rash', 'Kil', 'Varsha']\n",
            "Original value list is :  [1, 4, 5]\n",
            "Resultant dictionary is : {'Rash': 1, 'Kil': 4, 'Varsha': 5}\n"
          ]
        }
      ]
    },
    {
      "cell_type": "markdown",
      "source": [
        "**3. Write a python program to check if a value exists in a dictionary.**"
      ],
      "metadata": {
        "id": "Y193Vq8Ky_bc"
      }
    },
    {
      "cell_type": "code",
      "source": [
        "d={'Arham': 'Blue', 'Lisa': 'red', 'Vinod': 'Purple'}\n",
        "value=input(\"enter value \")\n",
        "if value in d.values():\n",
        "  print(\"True\")\n",
        "else:\n",
        "  print(\"False\")"
      ],
      "metadata": {
        "colab": {
          "base_uri": "https://localhost:8080/"
        },
        "id": "4BU07pBTnTuU",
        "outputId": "b036e939-8206-48fc-b3ab-8219ca104dab"
      },
      "execution_count": null,
      "outputs": [
        {
          "output_type": "stream",
          "name": "stdout",
          "text": [
            "enter value red\n",
            "True\n"
          ]
        }
      ]
    },
    {
      "cell_type": "markdown",
      "source": [
        "**4. Write a python program to reverse a tuple.**"
      ],
      "metadata": {
        "id": "6HTOAZOmzHfv"
      }
    },
    {
      "cell_type": "code",
      "source": [
        "t=eval(input(\"enter a tuple\"))#('a','b','c','d','e')\n",
        "new_tup = t[::-1]\n",
        "new_tup"
      ],
      "metadata": {
        "colab": {
          "base_uri": "https://localhost:8080/"
        },
        "id": "q01JMyW-sfuQ",
        "outputId": "5625389f-5c7a-4abe-e015-7fdf7a298112"
      },
      "execution_count": null,
      "outputs": [
        {
          "name": "stdout",
          "output_type": "stream",
          "text": [
            "enter a tuple('a','b','c','d','e')\n"
          ]
        },
        {
          "output_type": "execute_result",
          "data": {
            "text/plain": [
              "('e', 'd', 'c', 'b', 'a')"
            ]
          },
          "metadata": {},
          "execution_count": 16
        }
      ]
    },
    {
      "cell_type": "markdown",
      "source": [
        "**5. Write a python program to unpack the tuple to desired values.**"
      ],
      "metadata": {
        "id": "tHloGmKzzik9"
      }
    },
    {
      "cell_type": "code",
      "source": [
        "tuple = (1, 2, 3, 4)\n",
        "a,b,c,d = tuple\n",
        "print(a)\n",
        "print(b)\n",
        "print(c)\n",
        "print(d)"
      ],
      "metadata": {
        "id": "i5rrGThfukzN",
        "outputId": "79f70276-099c-4063-b068-4e5148a81eab",
        "colab": {
          "base_uri": "https://localhost:8080/"
        }
      },
      "execution_count": null,
      "outputs": [
        {
          "output_type": "stream",
          "name": "stdout",
          "text": [
            "1\n",
            "2\n",
            "3\n",
            "4\n"
          ]
        }
      ]
    },
    {
      "cell_type": "markdown",
      "source": [
        "**6. Write a python program to count the number of occurrences of a specific element in tuple.**"
      ],
      "metadata": {
        "id": "sWNX5f2TznqA"
      }
    },
    {
      "cell_type": "code",
      "source": [
        "t1=eval(input(\"enter a tuple:\"))\n",
        "ch= int(input(\"enter the element to be counted :\"))\n",
        "c=0\n",
        "c= t1.count(ch)\n",
        "print(ch,\" has\", c ,\"occurences\")"
      ],
      "metadata": {
        "colab": {
          "base_uri": "https://localhost:8080/"
        },
        "id": "Lt_VuzfQzx-Q",
        "outputId": "d5d31a82-ab10-4eaf-b766-dbeb50b6e9e6"
      },
      "execution_count": null,
      "outputs": [
        {
          "output_type": "stream",
          "name": "stdout",
          "text": [
            "enter a tuple:(1,2,3,4,1,3,2,1,2,1,1,15)\n",
            "enter the element to be counted :1\n",
            "1  has 5 occurences\n"
          ]
        }
      ]
    },
    {
      "cell_type": "markdown",
      "source": [
        "**8. Write a python program to demonstrate the different string formatting methods available in python.**"
      ],
      "metadata": {
        "id": "DXVs6j_51JP8"
      }
    },
    {
      "cell_type": "code",
      "source": [
        "# Using % operator\n",
        "name = \"Nikita\"\n",
        "marks = 90\n",
        "print(\"My name is %s and I got %d marks.\" % (name, marks))\n",
        "\n",
        "# Using format() method\n",
        "name = \"Nikita\"\n",
        "marks = 90\n",
        "print(\"My name is {} and I got {} marks.\".format(name, marks))\n",
        "\n",
        "# Using f-strings\n",
        "name = \"Nikita\"\n",
        "marks = 90\n",
        "print(f\"My name is {name} and I got {marks} marks.\")\n",
        "\n",
        "# Using String Template Class\n",
        "from string import Template\n",
        "name = \"Nikita\"\n",
        "marks = 90\n",
        "t = Template(\"My name is $n and I got $m marks .\")\n",
        "print(t.substitute(n=name, m=marks))"
      ],
      "metadata": {
        "colab": {
          "base_uri": "https://localhost:8080/"
        },
        "id": "RUELEZyI1TEK",
        "outputId": "44782fa6-bd81-47a2-e74e-72ad10f36b58"
      },
      "execution_count": null,
      "outputs": [
        {
          "output_type": "stream",
          "name": "stdout",
          "text": [
            "My name is Nikita and I got 90 marks.\n",
            "My name is Nikita and I got 90 marks.\n",
            "My name is Nikita and I got 90 marks.\n",
            "My name is Nikita and I got 90 marks .\n"
          ]
        }
      ]
    },
    {
      "cell_type": "markdown",
      "source": [
        "**9. Write a python program to add a new list inside an existing list. (Use nested list)**"
      ],
      "metadata": {
        "id": "l0gUsQvm2z3T"
      }
    },
    {
      "cell_type": "code",
      "source": [
        "my_list = [1, 2, 3, 4]\n",
        "\n",
        "# New list to be added\n",
        "new_list = [5, 6, 7]\n",
        "\n",
        "# Adding nested list to the existing list by append function\n",
        "print(\"Modified List\")\n",
        "my_list.append(new_list)\n",
        "print(my_list)\n",
        "# Adding list element to the new list by extend function\n",
        "print(\"Modified List after extending\")\n",
        "my_list.extend(new_list)\n",
        "print(my_list)"
      ],
      "metadata": {
        "colab": {
          "base_uri": "https://localhost:8080/"
        },
        "id": "TkxLtHM727B9",
        "outputId": "6fb9934a-bb38-4ec1-c06e-0b9c2cf57eef"
      },
      "execution_count": null,
      "outputs": [
        {
          "output_type": "stream",
          "name": "stdout",
          "text": [
            "Modified List\n",
            "[1, 2, 3, 4, [5, 6, 7]]\n",
            "Modified List after extending\n",
            "[1, 2, 3, 4, [5, 6, 7], 5, 6, 7]\n"
          ]
        }
      ]
    }
  ]
}