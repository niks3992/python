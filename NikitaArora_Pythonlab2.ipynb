{
  "nbformat": 4,
  "nbformat_minor": 0,
  "metadata": {
    "colab": {
      "provenance": [],
      "authorship_tag": "ABX9TyMhZ2Ro50/P2OOjyIfXixhJ",
      "include_colab_link": true
    },
    "kernelspec": {
      "name": "python3",
      "display_name": "Python 3"
    },
    "language_info": {
      "name": "python"
    }
  },
  "cells": [
    {
      "cell_type": "markdown",
      "metadata": {
        "id": "view-in-github",
        "colab_type": "text"
      },
      "source": [
        "<a href=\"https://colab.research.google.com/github/niks3992/python/blob/main/NikitaArora_Pythonlab2.ipynb\" target=\"_parent\"><img src=\"https://colab.research.google.com/assets/colab-badge.svg\" alt=\"Open In Colab\"/></a>"
      ]
    },
    {
      "cell_type": "markdown",
      "source": [
        "**1. Write a program that asks a user for a username and\n",
        "password. If password is “cdac” and does not contain username\n",
        "print “login successful” otherwise “login failure”**"
      ],
      "metadata": {
        "id": "78LqCFqvEzao"
      }
    },
    {
      "cell_type": "code",
      "source": [
        "s1= input(\"Enter username :\")\n",
        "s2= input(\"Enter password : \")\n",
        "if (s2==\"cdac\" and s1 not in s2):\n",
        "    print(\"login successful\")\n",
        "else:\n",
        "    print(\"login failure\")"
      ],
      "metadata": {
        "colab": {
          "base_uri": "https://localhost:8080/"
        },
        "id": "FSBuo2aFEDBH",
        "outputId": "4d3ce4c2-a0ad-439f-f9e2-396864f8e679"
      },
      "execution_count": null,
      "outputs": [
        {
          "output_type": "stream",
          "name": "stdout",
          "text": [
            "Enter username :nikita\n",
            "Enter password : cdacnikita\n",
            "login failure\n"
          ]
        }
      ]
    },
    {
      "cell_type": "markdown",
      "source": [
        "**2. Write a program to input 2 strings. If string1 is contained in\n",
        "string2 ,create a third string with the first four characters of\n",
        "string2 added with word “cdac”**"
      ],
      "metadata": {
        "id": "GhE_kWZ1E3Yb"
      }
    },
    {
      "cell_type": "code",
      "execution_count": null,
      "metadata": {
        "colab": {
          "base_uri": "https://localhost:8080/"
        },
        "id": "zjaNz6Xk_rsE",
        "outputId": "85723c3f-9788-4038-8acb-2611103eff85"
      },
      "outputs": [
        {
          "output_type": "stream",
          "name": "stdout",
          "text": [
            "Enter string 1 : hello\n",
            "Enter string 2 : everyonehello\n",
            "helloevercdac\n"
          ]
        }
      ],
      "source": [
        "s1= input(\"Enter string 1 : \")\n",
        "s2= input(\"Enter string 2 : \")\n",
        "s3=\"cdac\"\n",
        "if s1 in s2:\n",
        "  s4=s1+s2[0:4]+s3\n",
        "  print(s4)"
      ]
    },
    {
      "cell_type": "markdown",
      "source": [
        "**3. Write a program that inputs a string that contains a decimal\n",
        "number and prints out the decimal part of the number(Do not\n",
        "convert the string to number)**"
      ],
      "metadata": {
        "id": "yPQMsrb1Ftx3"
      }
    },
    {
      "cell_type": "code",
      "source": [
        "s1= input(\"Enter a decimal number : \")\n",
        "output=list(s1.partition(\".\"))\n",
        "print(\"The decimal part of number\",s1,\" is \",output[2])"
      ],
      "metadata": {
        "colab": {
          "base_uri": "https://localhost:8080/"
        },
        "id": "bFCsYKCgF39T",
        "outputId": "eb8f53bd-9e1f-478e-84f4-9c762661c425"
      },
      "execution_count": null,
      "outputs": [
        {
          "output_type": "stream",
          "name": "stdout",
          "text": [
            "Enter a decimal number : 11.25\n",
            "The decimal part of number 11.25  is  25\n"
          ]
        }
      ]
    },
    {
      "cell_type": "markdown",
      "source": [
        "**4. Write a program that takes a string with multiple words and\n",
        "then capitalizes the first letter of each word and forms a new\n",
        "string out of it**"
      ],
      "metadata": {
        "id": "4ZALrIJXG2QL"
      }
    },
    {
      "cell_type": "code",
      "source": [
        "s1= input(\"Enter a sentence: \")\n",
        "output=s1.title()\n",
        "output"
      ],
      "metadata": {
        "colab": {
          "base_uri": "https://localhost:8080/",
          "height": 53
        },
        "id": "LcMyRbGQG5IU",
        "outputId": "8a0e0e0e-3672-4871-a2f9-8c7bfc30e367"
      },
      "execution_count": null,
      "outputs": [
        {
          "name": "stdout",
          "output_type": "stream",
          "text": [
            "Enter a sentence: hello everyone welcome to the world of python\n"
          ]
        },
        {
          "output_type": "execute_result",
          "data": {
            "text/plain": [
              "'Hello Everyone Welcome To The World Of Python'"
            ],
            "application/vnd.google.colaboratory.intrinsic+json": {
              "type": "string"
            }
          },
          "metadata": {},
          "execution_count": 25
        }
      ]
    },
    {
      "cell_type": "markdown",
      "source": [
        "**5. Write a program that reads a string and prints a string that\n",
        "capitalizes every other letter in the string (eg: python becomes\n",
        "pYtHoN)**"
      ],
      "metadata": {
        "id": "awH7tIUcHjN2"
      }
    },
    {
      "cell_type": "code",
      "source": [
        "s1= input(\"Enter a sentence: \")\n",
        "result=\"\"\n",
        "for i in range(0,len(s1)):\n",
        "  if i % 2 == 0:\n",
        "        result += s1[i].lower()\n",
        "  else:\n",
        "        result += s1[i].upper()\n",
        "print(result)\n"
      ],
      "metadata": {
        "colab": {
          "base_uri": "https://localhost:8080/"
        },
        "id": "NzuQMneUHneN",
        "outputId": "21a878df-d08a-455f-a188-2cbbcb9887ea"
      },
      "execution_count": null,
      "outputs": [
        {
          "output_type": "stream",
          "name": "stdout",
          "text": [
            "Enter a sentence: hello everyone\n",
            "hElLo eVeRyOnE\n"
          ]
        }
      ]
    },
    {
      "cell_type": "markdown",
      "source": [
        "**6. Write a program that asks the user for a string and creates a new string that doubles each character of the original string(eg:\n",
        "cdac becomes ccddaacc)**"
      ],
      "metadata": {
        "id": "2kll69WiIC4t"
      }
    },
    {
      "cell_type": "code",
      "source": [
        "s1= input(\"Enter a string: \")\n",
        "s2=\"\"\n",
        "for char in s1:\n",
        "  s2=s2+(char * 2)\n",
        "print(s2)"
      ],
      "metadata": {
        "id": "9k_JTdACIQA2",
        "colab": {
          "base_uri": "https://localhost:8080/"
        },
        "outputId": "b25564e4-147e-4f54-f211-e335b9e308c6"
      },
      "execution_count": null,
      "outputs": [
        {
          "output_type": "stream",
          "name": "stdout",
          "text": [
            "Enter a string: cdac\n",
            "ccddaacc\n"
          ]
        }
      ]
    },
    {
      "cell_type": "markdown",
      "source": [
        "**7. Write a program that inputs a line of text and prints its each\n",
        "word in a separate line along with its length**"
      ],
      "metadata": {
        "id": "iZbarLT0NwuQ"
      }
    },
    {
      "cell_type": "code",
      "source": [
        "s1= input(\"Enter a sentence: \")\n",
        "s2=s1.split()\n",
        "for i in range(0,len(s2)):\n",
        "  print(\"Word \",(i+1),\" \",s2[i],\"\\t length is\",len(s2[i]))"
      ],
      "metadata": {
        "colab": {
          "base_uri": "https://localhost:8080/"
        },
        "id": "JZZuLPDuNzXo",
        "outputId": "7136c5d0-0f88-46a4-9c20-06c09203fa93"
      },
      "execution_count": null,
      "outputs": [
        {
          "output_type": "stream",
          "name": "stdout",
          "text": [
            "Enter a sentence: hello everyone welcome\n",
            "Word  1   hello \t length is 5\n",
            "Word  2   everyone \t length is 8\n",
            "Word  3   welcome \t length is 7\n"
          ]
        }
      ]
    },
    {
      "cell_type": "markdown",
      "source": [
        "**8. Write a program which takes one string and a character. The\n",
        "function should create a new string after deleting all the\n",
        "occurrences of the character from the string**"
      ],
      "metadata": {
        "id": "6IpeZKk5PoO6"
      }
    },
    {
      "cell_type": "code",
      "source": [
        "s1= input(\"Enter a string: \")\n",
        "c= input(\"Enter a char: \")\n",
        "s2=\"\"\n",
        "for char in s1:\n",
        "  if char==c:\n",
        "    continue\n",
        "  s2=s2+char\n",
        "print(s2)"
      ],
      "metadata": {
        "id": "yA5SrtTVPrX3",
        "colab": {
          "base_uri": "https://localhost:8080/"
        },
        "outputId": "87745a54-4dd7-4307-a8a6-180cb7b577a0"
      },
      "execution_count": null,
      "outputs": [
        {
          "output_type": "stream",
          "name": "stdout",
          "text": [
            "Enter a string: hello\n",
            "Enter a char: l\n",
            "heo\n"
          ]
        }
      ]
    },
    {
      "cell_type": "markdown",
      "source": [
        "**9. Write a program that reads a sentence and print the string\n",
        "with lowercase characters converted to uppercase and\n",
        "viceversa**"
      ],
      "metadata": {
        "id": "2l4SBZqEP8Uk"
      }
    },
    {
      "cell_type": "code",
      "source": [
        "s1= input(\"Enter a sentence: \")\n",
        "print(s1.swapcase())"
      ],
      "metadata": {
        "colab": {
          "base_uri": "https://localhost:8080/"
        },
        "id": "dfQ_53HwP-7V",
        "outputId": "24dd5233-475f-4eeb-c1cc-9798f378cc7f"
      },
      "execution_count": null,
      "outputs": [
        {
          "output_type": "stream",
          "name": "stdout",
          "text": [
            "Enter a sentence: HELLO EVERYONE, WELCOME TO CDAC\n",
            "hello everyone, welcome to cdac\n"
          ]
        }
      ]
    },
    {
      "cell_type": "markdown",
      "source": [
        "**10. Write a program that does the following:\n",
        "a. Prompt the user for a string\n",
        "b. Extract all the digits from the string\n",
        "c. If there are digits\n",
        "a. sum the collected digits together\n",
        "b. print out: the original string , the digits, the sum of the\n",
        "digits\n",
        "d. If there are no digits\n",
        "a. print the original string and a message “has no digits”**"
      ],
      "metadata": {
        "id": "iTUQ2bnVQXN1"
      }
    },
    {
      "cell_type": "code",
      "source": [
        "s1= input(\"Enter a string: \")\n",
        "l1=[]\n",
        "if s1.isalnum:\n",
        "  for i in range(0,len(s1)):\n",
        "    if s1[i].isdigit():\n",
        "      l1.append(int(s1[i]))\n",
        "  s=0\n",
        "  s=sum(l1)\n",
        "  print(\"Original String \",s1)\n",
        "  print(\"Digits in string\",l1)\n",
        "  print(\"Sum of digits is \",s)\n",
        "else:\n",
        "  print(s1,\"has no digits\")\n",
        "\n"
      ],
      "metadata": {
        "colab": {
          "base_uri": "https://localhost:8080/"
        },
        "id": "TNmVo6qpQXl8",
        "outputId": "204245c6-8c8b-467f-c01f-8639cfe5d354"
      },
      "execution_count": null,
      "outputs": [
        {
          "output_type": "stream",
          "name": "stdout",
          "text": [
            "Enter a string: atul12arora34\n",
            "Original String  atul12arora34\n",
            "Digits in string [1, 2, 3, 4]\n",
            "Sum of digits is  10\n"
          ]
        }
      ]
    },
    {
      "cell_type": "markdown",
      "source": [
        "**11. Extract two list slices out of a given list of numbers. Display and\n",
        "print the sum of elements of the first slice which contains every\n",
        "other element of the list between indexes 5 to 15. Program should\n",
        "also display the average of elements in the second list slice that\n",
        "contains every fourth element of the list.**"
      ],
      "metadata": {
        "id": "OY75a8meXAUC"
      }
    },
    {
      "cell_type": "code",
      "source": [
        "l1=[1,2,3,4,5,10,11,12,13,14,15,20,21,22,15,17,15,22,19,20]\n",
        "l2=l1[5:16:2]\n",
        "print(\"slice 1:\",l2)\n",
        "sum1=0\n",
        "sum1=sum(l2)\n",
        "print(\"sum of element\",sum1)\n",
        "l3=l1[0::3]\n",
        "print(\"slice 2:\",l3)\n",
        "sum2=0\n",
        "sum2=sum(l3)\n",
        "avg=0\n",
        "avg=sum2/len(l3)\n",
        "print(f\"average of element\",'%.2f' % avg)\n"
      ],
      "metadata": {
        "colab": {
          "base_uri": "https://localhost:8080/"
        },
        "id": "uGnbQs53XD2V",
        "outputId": "5a2ce1fd-e86c-434a-edfc-852e6b4d0849"
      },
      "execution_count": null,
      "outputs": [
        {
          "output_type": "stream",
          "name": "stdout",
          "text": [
            "slice 1: [10, 12, 14, 20, 22, 17]\n",
            "sum of element 95\n",
            "slice 2: [1, 4, 11, 14, 21, 17, 19]\n",
            "average of element 12.43\n"
          ]
        }
      ]
    },
    {
      "cell_type": "markdown",
      "source": [
        "**12. Write a program that inputs a list, replicates it twice and then\n",
        "prints the sorted list both in ascending and descending order**"
      ],
      "metadata": {
        "id": "nQYGrUjihjrb"
      }
    },
    {
      "cell_type": "code",
      "source": [
        "l1=eval(input(\"Enter a list\"))\n",
        "print(\"Replication of list twice\")\n",
        "l2=l1 * 2\n",
        "print(l2)\n",
        "l3=sorted(l2)\n",
        "print(\"Sorted Replicated list in ascending order\")\n",
        "print(l3)\n",
        "l4=sorted(l2,reverse=True)\n",
        "print(\"Sorted Replicated list in descending order\")\n",
        "print(l4)"
      ],
      "metadata": {
        "colab": {
          "base_uri": "https://localhost:8080/"
        },
        "id": "94RiBeSlhxHP",
        "outputId": "cbffaf09-a4d4-423b-8a22-302f38e03173"
      },
      "execution_count": null,
      "outputs": [
        {
          "output_type": "stream",
          "name": "stdout",
          "text": [
            "Enter a list[10, 12, 14, 20, 22, 17]\n",
            "Replication of list twice\n",
            "[10, 12, 14, 20, 22, 17, 10, 12, 14, 20, 22, 17]\n",
            "Sorted Replicated list in ascending order\n",
            "[10, 10, 12, 12, 14, 14, 17, 17, 20, 20, 22, 22]\n",
            "Sorted Replicated list in descending order\n",
            "[22, 22, 20, 20, 17, 17, 14, 14, 12, 12, 10, 10]\n"
          ]
        }
      ]
    },
    {
      "cell_type": "markdown",
      "source": [
        "**13. Write a program to calculate the mean of a list of numbers**"
      ],
      "metadata": {
        "id": "HyXiDkynhqjG"
      }
    },
    {
      "cell_type": "code",
      "source": [
        "l1=eval(input(\"Enter a list\"))\n",
        "sum3=0\n",
        "sum3=sum(l1)\n",
        "avg2=0\n",
        "avg2=sum3/len(l1)\n",
        "print(f\"Mean of element\",'%.2f' % avg2)"
      ],
      "metadata": {
        "colab": {
          "base_uri": "https://localhost:8080/"
        },
        "id": "Ux73AIBLnUrI",
        "outputId": "5762ad7a-11b3-43d2-9df8-e0631b4310a1"
      },
      "execution_count": null,
      "outputs": [
        {
          "output_type": "stream",
          "name": "stdout",
          "text": [
            "Enter a list[10, 12, 14, 20, 22, 17]\n",
            "Mean of element 15.83\n"
          ]
        }
      ]
    },
    {
      "cell_type": "markdown",
      "source": [
        "**14. Write a program to check if the max element of the list lies\n",
        "in the first half or the second half**"
      ],
      "metadata": {
        "id": "19cStf6rp89R"
      }
    },
    {
      "cell_type": "code",
      "source": [
        "l1=eval(input(\"Enter a list\"))\n",
        "max1=0\n",
        "max1=max(l1)\n",
        "for i in range(0,(len(l1)//2)):\n",
        "  if max1 == l1[i]:\n",
        "      print(\"max element \",max1,\" in first half of list\")\n",
        "else:\n",
        "  print(\"max element \",max1,\" in second half of list\")"
      ],
      "metadata": {
        "colab": {
          "base_uri": "https://localhost:8080/"
        },
        "id": "CKNyRYfuqC1c",
        "outputId": "370f0f4b-f0ff-465a-8684-6985c7947186"
      },
      "execution_count": null,
      "outputs": [
        {
          "output_type": "stream",
          "name": "stdout",
          "text": [
            "Enter a list[11,22,33,55,44,9]\n",
            "max element  55  in second half of list\n"
          ]
        }
      ]
    },
    {
      "cell_type": "markdown",
      "source": [
        "**15. Write a program to input 2 lists and display the maximum\n",
        "element from the elements of both the list, along with its index\n",
        "in the list**"
      ],
      "metadata": {
        "id": "NvGSP2jyugep"
      }
    },
    {
      "cell_type": "code",
      "source": [
        "l1=eval(input(\"Enter a list1 \"))\n",
        "l2=eval(input(\"Enter a list2 \"))\n",
        "max1=max(l1)\n",
        "max2=max(l2)\n",
        "print(\"Maximum value of list1 is\",max1,\" at index \",l1.index(max1))\n",
        "print(\"Maximum value of list2 is\",max2,\" at index \",l2.index(max2))"
      ],
      "metadata": {
        "colab": {
          "base_uri": "https://localhost:8080/"
        },
        "id": "xrwdwVXMunDO",
        "outputId": "b1f5ec1d-8126-4351-a1da-8aada720e4e3"
      },
      "execution_count": null,
      "outputs": [
        {
          "output_type": "stream",
          "name": "stdout",
          "text": [
            "Enter a list1 [11,22,33,55,44,9]\n",
            "Enter a list2 [11,22,33,55,44,9,99]\n",
            "Maximum value of list1 is 55  at index  3\n",
            "Maximum value of list2 is 99  at index  6\n"
          ]
        }
      ]
    },
    {
      "cell_type": "markdown",
      "source": [
        "**16. Given 2 lists, write a program that prints “overlapped” if they\n",
        "have at least one member in common otherwise “not overlapped”**"
      ],
      "metadata": {
        "id": "jyIQ1q9_zOzT"
      }
    },
    {
      "cell_type": "code",
      "source": [
        "l1=eval(input(\"Enter a list1 \"))\n",
        "l2=eval(input(\"Enter a list2 \"))\n",
        "flag=0\n",
        "for x in l1:\n",
        "  for y in l2:\n",
        "    if x == y:\n",
        "        flag=1\n",
        "if flag==1:\n",
        "  print(\"Overlapped\")\n",
        "else:\n",
        "  print(\"Not Overlapped\")\n"
      ],
      "metadata": {
        "colab": {
          "base_uri": "https://localhost:8080/"
        },
        "id": "QR3FmVYzzTH6",
        "outputId": "c8f0eebf-95d9-4c14-ec2d-8ffbd899ee2e"
      },
      "execution_count": null,
      "outputs": [
        {
          "output_type": "stream",
          "name": "stdout",
          "text": [
            "Enter a list1 [5,6,7,8]\n",
            "Enter a list2 [1,2,3,4]\n",
            "Not Overlapped\n"
          ]
        }
      ]
    },
    {
      "cell_type": "markdown",
      "source": [
        "**17. Write a program to input a list and 2 numbers m and n. Then\n",
        "create a list from those elements which are divisible by both m and\n",
        "n**"
      ],
      "metadata": {
        "id": "NAswYUVO5skd"
      }
    },
    {
      "cell_type": "code",
      "source": [
        "l1=eval(input(\"Enter a list1 \"))\n",
        "m=int(input(\"Enter a number 1 \"))\n",
        "n=int(input(\"Enter a number 2 \"))\n",
        "l2=[]\n",
        "for i in l1:\n",
        "  if i%m==0 and i%n==0:\n",
        "    l2.append(i)\n",
        "print(l2)\n"
      ],
      "metadata": {
        "colab": {
          "base_uri": "https://localhost:8080/"
        },
        "id": "TC4U1ifM5xX9",
        "outputId": "5f511773-63db-4e05-aebe-c5c74526c3ef"
      },
      "execution_count": null,
      "outputs": [
        {
          "output_type": "stream",
          "name": "stdout",
          "text": [
            "Enter a list1 [10,20,3,5,30]\n",
            "Enter a number 1 2\n",
            "Enter a number 2 5\n",
            "[10, 20, 30]\n"
          ]
        }
      ]
    },
    {
      "cell_type": "markdown",
      "source": [
        "**18.Write a python Program to demonstrate guess game**"
      ],
      "metadata": {
        "id": "OIXqELlMuHh-"
      }
    },
    {
      "cell_type": "code",
      "source": [
        "import random\n",
        "while True :\n",
        "  a=int(input(\"Enter a number between 1 to 10 \"))\n",
        "  r=random.randint(1,10)\n",
        "  print(\"Random number between 1 to 10\",r)\n",
        "  if a==r:\n",
        "    print(\"Game is over\")\n",
        "    break"
      ],
      "metadata": {
        "colab": {
          "base_uri": "https://localhost:8080/"
        },
        "id": "m7nTjcS8uf0e",
        "outputId": "40d89bab-f5c8-43d4-85e4-5f238292320e"
      },
      "execution_count": null,
      "outputs": [
        {
          "output_type": "stream",
          "name": "stdout",
          "text": [
            "Enter a number between 1 to 10 5\n",
            "Random number between 1 to 10 4\n",
            "Enter a number between 1 to 10 3\n",
            "Random number between 1 to 10 2\n",
            "Enter a number between 1 to 10 4\n",
            "Random number between 1 to 10 1\n",
            "Enter a number between 1 to 10 7\n",
            "Random number between 1 to 10 10\n",
            "Enter a number between 1 to 10 1\n",
            "Random number between 1 to 10 7\n",
            "Enter a number between 1 to 10 2\n",
            "Random number between 1 to 10 8\n",
            "Enter a number between 1 to 10 8\n",
            "Random number between 1 to 10 2\n",
            "Enter a number between 1 to 10 5\n",
            "Random number between 1 to 10 10\n",
            "Enter a number between 1 to 10 10\n",
            "Random number between 1 to 10 9\n",
            "Enter a number between 1 to 10 9\n",
            "Random number between 1 to 10 10\n",
            "Enter a number between 1 to 10 2\n",
            "Random number between 1 to 10 9\n",
            "Enter a number between 1 to 10 6\n",
            "Random number between 1 to 10 10\n",
            "Enter a number between 1 to 10 4\n",
            "Random number between 1 to 10 7\n",
            "Enter a number between 1 to 10 4\n",
            "Random number between 1 to 10 1\n",
            "Enter a number between 1 to 10 5\n",
            "Random number between 1 to 10 5\n",
            "Game is over\n"
          ]
        }
      ]
    },
    {
      "cell_type": "markdown",
      "source": [
        "**19. Write a program to print the multiplication table of a number\n",
        "read**"
      ],
      "metadata": {
        "id": "dirig8p_5nBg"
      }
    },
    {
      "cell_type": "code",
      "source": [
        "a=int(input(\"Enter a number \"))\n",
        "for i in range(1,13):\n",
        "  print(a,\" * \",i,\"=\",a*i)"
      ],
      "metadata": {
        "colab": {
          "base_uri": "https://localhost:8080/"
        },
        "id": "Wk6YvqgAILW-",
        "outputId": "b5d98f00-497f-410d-ff3a-f150f00f2db0"
      },
      "execution_count": null,
      "outputs": [
        {
          "output_type": "stream",
          "name": "stdout",
          "text": [
            "Enter a number 6\n",
            "6  *  1 = 6\n",
            "6  *  2 = 12\n",
            "6  *  3 = 18\n",
            "6  *  4 = 24\n",
            "6  *  5 = 30\n",
            "6  *  6 = 36\n",
            "6  *  7 = 42\n",
            "6  *  8 = 48\n",
            "6  *  9 = 54\n",
            "6  *  10 = 60\n",
            "6  *  11 = 66\n",
            "6  *  12 = 72\n"
          ]
        }
      ]
    },
    {
      "cell_type": "markdown",
      "source": [
        "**20. Write a program to calculate and print the sums of even and\n",
        "odd integers of the first n natural numbers**"
      ],
      "metadata": {
        "id": "plsbcoWdIX2L"
      }
    },
    {
      "cell_type": "code",
      "source": [
        "n=int(input(\"Enter higher limit \"))\n",
        "sum_even=0\n",
        "sum_odd=0\n",
        "for i in range(1,n):\n",
        "  if(i%2==0):\n",
        "      sum_even = sum_even + i\n",
        "  else:\n",
        "      sum_odd = sum_odd + i\n",
        "print(\"Sum of even natural number \",sum_even)\n",
        "print(\"Sum of odd natural number \",sum_odd)\n"
      ],
      "metadata": {
        "colab": {
          "base_uri": "https://localhost:8080/"
        },
        "id": "Mkwvch-7Jnmu",
        "outputId": "7a81c48c-4c59-404d-93eb-08d612804816"
      },
      "execution_count": null,
      "outputs": [
        {
          "output_type": "stream",
          "name": "stdout",
          "text": [
            "Enter higher limit 20\n",
            "Sum of even natural number  90\n",
            "Sum of odd natural number  100\n"
          ]
        }
      ]
    },
    {
      "cell_type": "markdown",
      "source": [
        "**21. Write a program to input a number and test whether it is\n",
        "prime or not**"
      ],
      "metadata": {
        "id": "mb18PpsDI6SJ"
      }
    },
    {
      "cell_type": "code",
      "source": [
        "num = int(input(\"Enter a number: \"))\n",
        "if num > 1:\n",
        "    for i in range(2, num//2):\n",
        "        if (num % i) == 0:\n",
        "            print(num, \"is not a prime number\")\n",
        "            break\n",
        "    else:\n",
        "        print(num, \"is a prime number\")\n",
        "else:\n",
        "    print(num, \"is not a prime number\")"
      ],
      "metadata": {
        "colab": {
          "base_uri": "https://localhost:8080/"
        },
        "id": "b2kRHjUeJEnM",
        "outputId": "9c9c821b-6c07-4e29-846b-f01fc922ba74"
      },
      "execution_count": null,
      "outputs": [
        {
          "output_type": "stream",
          "name": "stdout",
          "text": [
            "Enter a number: 7\n",
            "7 is a prime number\n"
          ]
        }
      ]
    },
    {
      "cell_type": "markdown",
      "source": [
        "**22. Write a program that prints the prime numbers from 15 through\n",
        "25**"
      ],
      "metadata": {
        "id": "lj2KQUouJe1k"
      }
    },
    {
      "cell_type": "code",
      "source": [
        "for num in range(15,26):\n",
        "  if num > 14:\n",
        "      for i in range(2, num):\n",
        "              if (num % i) == 0:\n",
        "                  break\n",
        "      else:\n",
        "              print(num)"
      ],
      "metadata": {
        "colab": {
          "base_uri": "https://localhost:8080/"
        },
        "id": "kwg5-aCcJv7o",
        "outputId": "34ea07c4-98c5-4f66-d175-f89b6cc2c185"
      },
      "execution_count": null,
      "outputs": [
        {
          "output_type": "stream",
          "name": "stdout",
          "text": [
            "17\n",
            "19\n",
            "23\n"
          ]
        }
      ]
    },
    {
      "cell_type": "markdown",
      "source": [
        "**23. Write a program to print the first 20 elements of the\n",
        "Fibonacci series**"
      ],
      "metadata": {
        "id": "9rojPA0iMmbr"
      }
    },
    {
      "cell_type": "code",
      "source": [
        "n1, n2 = 0, 1\n",
        "count = 0\n",
        "print(\"Fibonacci sequence:\")\n",
        "while count < 20:\n",
        "       print(n1)\n",
        "       nth = n1 + n2\n",
        "       n1 = n2\n",
        "       n2 = nth\n",
        "       count += 1"
      ],
      "metadata": {
        "colab": {
          "base_uri": "https://localhost:8080/"
        },
        "id": "NLrSiKL8MyJ0",
        "outputId": "1c0cf9aa-009a-40bf-be28-0b1c6f721048"
      },
      "execution_count": null,
      "outputs": [
        {
          "output_type": "stream",
          "name": "stdout",
          "text": [
            "Fibonacci sequence:\n",
            "0\n",
            "1\n",
            "1\n",
            "2\n",
            "3\n",
            "5\n",
            "8\n",
            "13\n",
            "21\n",
            "34\n",
            "55\n",
            "89\n",
            "144\n",
            "233\n",
            "377\n",
            "610\n",
            "987\n",
            "1597\n",
            "2584\n",
            "4181\n"
          ]
        }
      ]
    },
    {
      "cell_type": "markdown",
      "source": [
        "**24. Write a program to reverse a number**"
      ],
      "metadata": {
        "id": "73HDlclENlQW"
      }
    },
    {
      "cell_type": "code",
      "source": [
        "n2 = int(input(\"Enter a number: \"))\n",
        "rnum = 0\n",
        "\n",
        "while n2 != 0:\n",
        "    digit = n2 % 10\n",
        "    rnum = rnum * 10 + digit\n",
        "    n2 //= 10\n",
        "print(\"Reversed Number: \",rnum)"
      ],
      "metadata": {
        "colab": {
          "base_uri": "https://localhost:8080/"
        },
        "id": "EFbzzlkvNqlx",
        "outputId": "52b3c91b-22d4-4320-a21e-731c71c6680b"
      },
      "execution_count": null,
      "outputs": [
        {
          "output_type": "stream",
          "name": "stdout",
          "text": [
            "Enter a number: 4321\n",
            "Reversed Number:  1234\n"
          ]
        }
      ]
    },
    {
      "cell_type": "markdown",
      "source": [
        "**25. Write a program to generate divisors of a number**"
      ],
      "metadata": {
        "id": "0JKwuEcqPiM2"
      }
    },
    {
      "cell_type": "code",
      "source": [
        "n3 = int(input(\"Enter a number: \"))\n",
        "divisors = []\n",
        "for i in range(1, (n3+1)):\n",
        "        if n3 % i == 0:\n",
        "            divisors.append(i)\n",
        "print(divisors)"
      ],
      "metadata": {
        "colab": {
          "base_uri": "https://localhost:8080/"
        },
        "id": "A7PXH2BrPphJ",
        "outputId": "dade229d-71f3-4780-f45d-bce8c5065286"
      },
      "execution_count": null,
      "outputs": [
        {
          "output_type": "stream",
          "name": "stdout",
          "text": [
            "Enter a number: 6\n",
            "[1, 2, 3, 6]\n"
          ]
        }
      ]
    },
    {
      "cell_type": "markdown",
      "source": [
        "**26. Write a program to calculate the BMI of a person after\n",
        "inputting the weight in kgs and height in meters and then print the\n",
        "Nutritional Status as per the following table\n",
        "Nutritional Status BMI\n",
        "Underweight <18.5\n",
        "Normal 18.5-24.9\n",
        "Overweight 25-29.9\n",
        "Obese >=30\n",
        "BMI =weight / (height *height )**"
      ],
      "metadata": {
        "id": "b_V3yR3wQOG3"
      }
    },
    {
      "cell_type": "code",
      "source": [
        "w = float(input(\"Enter weight in kgs: \"))\n",
        "h = float(input(\"Enter height in meters: \"))\n",
        "bmi= w/(h*h)\n",
        "if (bmi < 18.5):\n",
        "  print(\"Nutritional Status Underweight \")\n",
        "elif(bmi >= 18.5 and bmi < 24.9):\n",
        "  print(\"Nutritional Status Normal \")\n",
        "elif(bmi >= 25 and bmi < 29.9):\n",
        "  print(\"Nutritional Status Overweight \")\n",
        "elif(bmi>=30):\n",
        "  print(\"Nutritional Status Obese\")\n"
      ],
      "metadata": {
        "colab": {
          "base_uri": "https://localhost:8080/"
        },
        "id": "Qij8ffpLQgj7",
        "outputId": "6c4bb753-f43d-407f-ac99-a3b058395cf9"
      },
      "execution_count": null,
      "outputs": [
        {
          "output_type": "stream",
          "name": "stdout",
          "text": [
            "Enter weight in kgs: 55\n",
            "Enter height in meters: 1.56\n",
            "Nutritional Status Normal \n"
          ]
        }
      ]
    },
    {
      "cell_type": "markdown",
      "source": [
        "**28. Write a program to check whether a number is an\n",
        "Armstrong number or not.**"
      ],
      "metadata": {
        "id": "I7hAA5YSR3hj"
      }
    },
    {
      "cell_type": "code",
      "source": [
        "n = int(input(\"Enter a number: \"))\n",
        "sum = 0\n",
        "temp = n\n",
        "while temp > 0:\n",
        "    digit = temp % 10\n",
        "    sum += digit ** 3\n",
        "    temp //= 10\n",
        "if n == sum:\n",
        "    print(n, \"is an Armstrong number\")\n",
        "else:\n",
        "    print(n, \"is not an Armstrong number\")\n"
      ],
      "metadata": {
        "colab": {
          "base_uri": "https://localhost:8080/"
        },
        "id": "zb6tUgswSLqY",
        "outputId": "f79a94be-4b2b-4c00-87d6-086e6e7d7666"
      },
      "execution_count": null,
      "outputs": [
        {
          "output_type": "stream",
          "name": "stdout",
          "text": [
            "Enter a number: 153\n",
            "153 is an Armstrong number\n"
          ]
        }
      ]
    },
    {
      "cell_type": "markdown",
      "source": [
        "**29. Write a python program to demonstrate the common network connection errors and display its reasons, get the error code from the user.**"
      ],
      "metadata": {
        "id": "uTpIpBRrrfMr"
      }
    },
    {
      "cell_type": "code",
      "source": [
        "n = int(input(\"Enter a error number: \"))\n",
        "if(n==10013):\n",
        "           print(\"Permission denied. The socket is not allowed to access the network.\")\n",
        "elif(n==10048):\n",
        "          print(\"Address already in use. Another socket is already using the same port.\")\n",
        "elif(n==10051):\n",
        "           print(\"Network is unreachable. The remote host is not reachable from the local network.\")\n",
        "elif(n==10060):\n",
        "          print( \"Connection timed out. The connection attempt took too long or failed to establish a connection.\")\n"
      ],
      "metadata": {
        "colab": {
          "base_uri": "https://localhost:8080/"
        },
        "id": "7T-XmvECrqJ5",
        "outputId": "c71dc832-1266-4fa2-eeed-e29c97945d6e"
      },
      "execution_count": null,
      "outputs": [
        {
          "output_type": "stream",
          "name": "stdout",
          "text": [
            "Enter a error number: 10048\n",
            "Address already in use. Another socket is already using the same port.\n"
          ]
        }
      ]
    },
    {
      "cell_type": "markdown",
      "source": [
        "**30. Write a program to take n (n > 20) as an input from the user.\n",
        "Print numbers from 11 to n. If the number is a multiple of 3 print\n",
        "“Multiple of 3”,if it is a multiple of 7 print “Multiple of 7”, if it is a\n",
        "multiple of both, print multiple of both 3 and 7**"
      ],
      "metadata": {
        "id": "9XZTLDsUSrhc"
      }
    },
    {
      "cell_type": "code",
      "source": [
        "n = int(input(\"Enter a number greater than 20: \"))\n",
        "for c in range(11, n+1):\n",
        "  if(c%7==0 and c%3==0) :\n",
        "    print(c,\" is a multiple of 7 and 3\")\n",
        "  elif(c%7==0) :\n",
        "    print(c,\" is a multiple of 7\")\n",
        "  elif(c%3==0):\n",
        "    print(c,\" is a multiple of 3\")\n",
        "\n"
      ],
      "metadata": {
        "colab": {
          "base_uri": "https://localhost:8080/"
        },
        "id": "4J3P7dAiTjB4",
        "outputId": "53a1a17c-deec-43b9-c5fa-785cdd40ccb8"
      },
      "execution_count": null,
      "outputs": [
        {
          "output_type": "stream",
          "name": "stdout",
          "text": [
            "Enter a number greater than 20: 25\n",
            "12  is a multiple of 3\n",
            "14  is a multiple of 7\n",
            "15  is a multiple of 3\n",
            "18  is a multiple of 3\n",
            "21  is a multiple of 7 and 3\n",
            "24  is a multiple of 3\n"
          ]
        }
      ]
    }
  ]
}