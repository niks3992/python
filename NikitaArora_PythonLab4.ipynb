{
  "nbformat": 4,
  "nbformat_minor": 0,
  "metadata": {
    "colab": {
      "provenance": [],
      "authorship_tag": "ABX9TyOX7FzmnwARFCBRuEg6BFYg",
      "include_colab_link": true
    },
    "kernelspec": {
      "name": "python3",
      "display_name": "Python 3"
    },
    "language_info": {
      "name": "python"
    }
  },
  "cells": [
    {
      "cell_type": "markdown",
      "metadata": {
        "id": "view-in-github",
        "colab_type": "text"
      },
      "source": [
        "<a href=\"https://colab.research.google.com/github/niks3992/python/blob/main/NikitaArora_PythonLab4.ipynb\" target=\"_parent\"><img src=\"https://colab.research.google.com/assets/colab-badge.svg\" alt=\"Open In Colab\"/></a>"
      ]
    },
    {
      "cell_type": "markdown",
      "source": [
        "## **Lab Assignment 4**"
      ],
      "metadata": {
        "id": "C0-ZxAO-ARew"
      }
    },
    {
      "cell_type": "markdown",
      "source": [
        " **1. Write a function translate() that will translate a. That is, double\n",
        "every consonant and place an occurrence of \"o\" in between. For\n",
        "example, translate(\"this is fun\") should return the string \"tothohisos\n",
        "isos fofunon\".**"
      ],
      "metadata": {
        "id": "NPIJMcpGt2rL"
      }
    },
    {
      "cell_type": "code",
      "execution_count": null,
      "metadata": {
        "colab": {
          "base_uri": "https://localhost:8080/"
        },
        "id": "okFUcCHBCa3k",
        "outputId": "a0cdcabd-088c-49b9-f2f5-e01c6f18d931"
      },
      "outputs": [
        {
          "output_type": "stream",
          "name": "stdout",
          "text": [
            "tothohisos isos fofunon\n"
          ]
        }
      ],
      "source": [
        "def translate(input_str):\n",
        "    translated_str = \"\"\n",
        "\n",
        "    for char in input_str:\n",
        "        if char.isalpha() and char not in 'aeiou':\n",
        "            translated_str += char + 'o' + char\n",
        "        else:\n",
        "            translated_str += char\n",
        "\n",
        "    return translated_str\n",
        "original_str = \"this is fun\"\n",
        "result = translate(original_str)\n",
        "print(result)"
      ]
    },
    {
      "cell_type": "markdown",
      "source": [
        "**2. Write a program that contains a function that has one parameter,\n",
        "n, representing an integer greater than 0. The function should return\n",
        "n! (n factorial). Then write a main function that calls this function\n",
        "with the values 1 through 20, one at a time, printing the returned\n",
        "results. This is what your output should look like:\n",
        "1 1\n",
        "2 2\n",
        "3 6 etc**"
      ],
      "metadata": {
        "id": "2-4JKBH4uExy"
      }
    },
    {
      "cell_type": "code",
      "source": [
        "def fact(n):\n",
        "    if n == 0:\n",
        "        return 1\n",
        "    else:\n",
        "        return n * fact(n-1)\n",
        "\n",
        "for i in range(1, 21):\n",
        "        print(i,\" \",fact(i))\n",
        "\n"
      ],
      "metadata": {
        "colab": {
          "base_uri": "https://localhost:8080/"
        },
        "id": "81K0bC-6r5FS",
        "outputId": "00e06c0b-040b-49d6-df56-ffde7a18d60a"
      },
      "execution_count": null,
      "outputs": [
        {
          "output_type": "stream",
          "name": "stdout",
          "text": [
            "1   1\n",
            "2   2\n",
            "3   6\n",
            "4   24\n",
            "5   120\n",
            "6   720\n",
            "7   5040\n",
            "8   40320\n",
            "9   362880\n",
            "10   3628800\n",
            "11   39916800\n",
            "12   479001600\n",
            "13   6227020800\n",
            "14   87178291200\n",
            "15   1307674368000\n",
            "16   20922789888000\n",
            "17   355687428096000\n",
            "18   6402373705728000\n",
            "19   121645100408832000\n",
            "20   2432902008176640000\n"
          ]
        }
      ]
    },
    {
      "cell_type": "markdown",
      "source": [
        "**3. Write a function find_longest_word() that takes a list of words and\n",
        "returns the length of the longest one.**"
      ],
      "metadata": {
        "id": "E_jZ0IDruQyE"
      }
    },
    {
      "cell_type": "code",
      "source": [
        "def find_longest_word(l):\n",
        "  cnt=0\n",
        "  for i in l:\n",
        "    if len(i)> cnt:\n",
        "      cnt = cnt + len(i)\n",
        "  print(i,\"is the longest word with length \",cnt)\n",
        "\n",
        "l=eval(input(\"enter a list with words\"))\n",
        "find_longest_word(l)"
      ],
      "metadata": {
        "colab": {
          "base_uri": "https://localhost:8080/"
        },
        "id": "R5mdxxCgt0_0",
        "outputId": "d8663fb5-1138-4b18-8817-4c21c7130f4a"
      },
      "execution_count": null,
      "outputs": [
        {
          "output_type": "stream",
          "name": "stdout",
          "text": [
            "enter a list with words[\"nikita\",\"hello\",\"shubham\"]\n",
            "shubham is the longest word with length  13\n"
          ]
        }
      ]
    },
    {
      "cell_type": "markdown",
      "source": [
        "4. Define a simple \"spelling correction\" function correct () that takes a\n",
        "string and sees to it that\n",
        "a)two or more occurrences of the space character is compressed into one,\n",
        "and\n",
        "b)inserts an extra space after a period if the period is directly followed\n",
        "by a letter. e.g. correct (\"This is very funny and cool.Indeed!\") should\n",
        "return \"This is very funny and cool. Indeed!\""
      ],
      "metadata": {
        "id": "2ifjed4nyfjO"
      }
    },
    {
      "cell_type": "code",
      "source": [
        "import re\n",
        "pattern=r'\\s+'\n",
        "pattern1 = r'\\.([A-Za-z])'\n",
        "\n",
        "def correct(s):\n",
        "  if re.findall(pattern,s):\n",
        "     l=re.sub(pattern,\" \",s)\n",
        "  if re.findall(pattern1,l):\n",
        "     l1=re.sub(pattern1,r'. \\1',l)\n",
        "  print(l1)\n",
        "l=\"Hello everyone.How  are   you\"\n",
        "correct(l)"
      ],
      "metadata": {
        "colab": {
          "base_uri": "https://localhost:8080/"
        },
        "id": "P7GUigvqylsR",
        "outputId": "6f755881-a904-4b25-d362-1cc007374774"
      },
      "execution_count": null,
      "outputs": [
        {
          "output_type": "stream",
          "name": "stdout",
          "text": [
            "Hello everyone. How are you\n"
          ]
        }
      ]
    },
    {
      "cell_type": "markdown",
      "source": [
        "5. In English, the present participle is formed by adding the suffix -ing\n",
        "to the infinite form: go -> going. A simple set of heuristic rules can be\n",
        "given as follows:\n",
        "\n",
        "a) If the verb ends in e, drop the e and add ing (if not exception: be,\n",
        "see, flee, knee, etc.)\n",
        "b) If the verb ends in ie, change ie to y and add ing\n",
        "c) For words consisting of consonant-vowel-consonant, double the\n",
        "final letter before adding ing\n",
        "d) By default just add ing\n",
        "Your task in this exercise is to define a function make_ing_form() which,\n",
        "given a verb in infinitive form, returns its present participle form. Test\n",
        "your function with words such as lie, see, move and hug. However, you\n",
        "must not expect such simple rules to work for all cases."
      ],
      "metadata": {
        "id": "6gw3X819u9jY"
      }
    },
    {
      "cell_type": "code",
      "source": [
        "def make_ing_form(verb):\n",
        "    if verb.endswith('ie'):\n",
        "        # Rule b: If the verb ends in ie, change ie to y and add ing\n",
        "        return verb[:-2] + 'ying'\n",
        "    elif verb.endswith('e') and verb not in ['be', 'see', 'flee', 'knee']:\n",
        "        # Rule a: If the verb ends in e (and is not an exception), drop the e and add ing\n",
        "        return verb[:-1] + 'ing'\n",
        "    elif len(verb) >= 3 and verb[-1] not in 'aeiou' and verb[-2] in 'aeiou' and verb[-3] not in 'aeiou':\n",
        "        # Rule c: For words consisting of consonant-vowel-consonant, double the final letter before adding ing\n",
        "        return verb + verb[-1] + 'ing'\n",
        "    else:\n",
        "        # Rule d: By default, just add ing\n",
        "        return verb + 'ing'\n",
        "\n",
        "# Example usage:\n",
        "verbs = ['lie', 'see', 'move', 'hug']\n",
        "\n",
        "for verb in verbs:\n",
        "    print(verb,\":\",make_ing_form(verb))\n"
      ],
      "metadata": {
        "colab": {
          "base_uri": "https://localhost:8080/"
        },
        "id": "r7FFgpjjCcNS",
        "outputId": "80abbc53-febd-4743-c9a7-14517ad4271e"
      },
      "execution_count": null,
      "outputs": [
        {
          "output_type": "stream",
          "name": "stdout",
          "text": [
            "lie : lying\n",
            "see : seeing\n",
            "move : moving\n",
            "hug : hugging\n"
          ]
        }
      ]
    },
    {
      "cell_type": "markdown",
      "source": [
        "**6. Make the program of network error codes done yesterday with match-case.**"
      ],
      "metadata": {
        "id": "V3YYjqFxu_X7"
      }
    },
    {
      "cell_type": "code",
      "source": [
        "n = int(input(\"Enter a error number: \"))\n",
        "match n:\n",
        "    case 10051 :\n",
        "       print(\"Network is unreachable. The remote host is not reachable from the local network.\")\n",
        "    case 10060 :\n",
        "        print( \"Connection timed out. The connection attempt took too long or failed to establish a connection.\")\n",
        "    case 10013 :\n",
        "        print(\"Permission denied. The socket is not allowed to access the network.\")\n",
        "    case 10048 :\n",
        "         print(\"Address already in use. Another socket is already using the same port.\")\n",
        "    case _ :\n",
        "         print(\"Wrong error code\")"
      ],
      "metadata": {
        "colab": {
          "base_uri": "https://localhost:8080/"
        },
        "id": "3TNcP5bPE7LC",
        "outputId": "b980382a-2322-48d7-a02c-9d7eba2a2054"
      },
      "execution_count": null,
      "outputs": [
        {
          "output_type": "stream",
          "name": "stdout",
          "text": [
            "Enter a error number: 10048\n",
            "Address already in use. Another socket is already using the same port.\n"
          ]
        }
      ]
    },
    {
      "cell_type": "markdown",
      "source": [
        "**7. Define a class Student with data members rollno, name, mark1, mark2, mark3, total, avg. Use appropriate method for entering the details and displaying the details. Also define a method for calculating the total mark and average. Create an object for the class and invoke all the methods.**"
      ],
      "metadata": {
        "id": "thQgXrt3vGY7"
      }
    },
    {
      "cell_type": "code",
      "source": [
        "class Student:\n",
        "    def __init__(self, rollno, name, mark1, mark2, mark3):\n",
        "        self.rollno = rollno\n",
        "        self.name = name\n",
        "        self.mark1 = mark1\n",
        "        self.mark2 = mark2\n",
        "        self.mark3 = mark3\n",
        "        self.total = 0\n",
        "        self.avg = 0\n",
        "\n",
        "    def enter_details(self):\n",
        "        print(\"Enter Student Details:\")\n",
        "        self.rollno = input(\"Roll No: \")\n",
        "        self.name = input(\"Name: \")\n",
        "        self.mark1 = float(input(\"Mark 1: \"))\n",
        "        self.mark2 = float(input(\"Mark 2: \"))\n",
        "        self.mark3 = float(input(\"Mark 3: \"))\n",
        "\n",
        "    def average(self):\n",
        "        self.total = self.mark1 + self.mark2 + self.mark3\n",
        "        self.avg = self.total / 3\n",
        "\n",
        "    def display_details(self):\n",
        "        print(\"\\nStudent Details:\")\n",
        "        print(\"Roll No:\", self.rollno)\n",
        "        print(\"Name:\", self.name)\n",
        "        print(\"Mark 1:\", self.mark1)\n",
        "        print(\"Mark 2:\", self.mark2)\n",
        "        print(\"Mark 3:\", self.mark3)\n",
        "        print(\"Total Marks:\", self.total)\n",
        "        print(\"Average Marks:\", self.avg)\n",
        "\n",
        "# Create an object for the class\n",
        "student1 = Student('', '', 0, 0, 0)\n",
        "\n",
        "# Invoke methods\n",
        "student1.enter_details()\n",
        "student1.average()\n",
        "student1.display_details()\n"
      ],
      "metadata": {
        "colab": {
          "base_uri": "https://localhost:8080/"
        },
        "id": "qdi5FClwC64G",
        "outputId": "008c8013-47ec-49c2-b7b8-135f1db0f080"
      },
      "execution_count": null,
      "outputs": [
        {
          "output_type": "stream",
          "name": "stdout",
          "text": [
            "Enter Student Details:\n",
            "Roll No: 1\n",
            "Name: nikita\n",
            "Mark 1: 99\n",
            "Mark 2: 95\n",
            "Mark 3: 94\n",
            "\n",
            "Student Details:\n",
            "Roll No: 1\n",
            "Name: nikita\n",
            "Mark 1: 99.0\n",
            "Mark 2: 95.0\n",
            "Mark 3: 94.0\n",
            "Total Marks: 288.0\n",
            "Average Marks: 96.0\n"
          ]
        }
      ]
    },
    {
      "cell_type": "markdown",
      "source": [
        "**8. Create a class corresponding to BankAccount with the data members accno, custname, balamt. Use two methods for entering the details and displaying the details. Define one more method for checking whether the balamt is greater than 20,000 and display a corresponding message.Create an object for the class and invoke all the methods.**\n"
      ],
      "metadata": {
        "id": "fpLnNZ4IvUqh"
      }
    },
    {
      "cell_type": "code",
      "source": [
        "class BankAccount:\n",
        "    def __init__(self, accno, custname, balamt):\n",
        "        self.accno = accno\n",
        "        self.custname = custname\n",
        "        self.balamt = balamt\n",
        "\n",
        "    def enter_details(self):\n",
        "        self.accno = input(\"Account Number: \")\n",
        "        self.custname = input(\"Customer Name: \")\n",
        "        self.balamt = float(input(\"Balance Amount: \"))\n",
        "\n",
        "    def display_details(self):\n",
        "        print()\n",
        "        print(\"Account Number:\", self.accno)\n",
        "        print(\"Customer Name:\", self.custname)\n",
        "        print(\"Balance Amount:\", self.balamt)\n",
        "\n",
        "    def check_balance(self):\n",
        "        if self.balamt > 20000:\n",
        "            print(\"Balance is greater than 20,000.\")\n",
        "        else:\n",
        "            print(\"Balance is not greater than 20,000.\")\n",
        "\n",
        "account1 = BankAccount('', '', 0)\n",
        "account1.enter_details()\n",
        "account1.display_details()\n",
        "account1.check_balance()\n"
      ],
      "metadata": {
        "colab": {
          "base_uri": "https://localhost:8080/"
        },
        "id": "WKg9nymOEMjd",
        "outputId": "c5a8dff3-9e0a-4b00-8666-a8eb8f6a26c3"
      },
      "execution_count": null,
      "outputs": [
        {
          "output_type": "stream",
          "name": "stdout",
          "text": [
            "Account Number: 12313\n",
            "Customer Name: nikita\n",
            "Balance Amount: 1444663\n",
            "\n",
            "Account Number: 12313\n",
            "Customer Name: nikita\n",
            "Balance Amount: 1444663.0\n",
            "Balance is greater than 20,000.\n"
          ]
        }
      ]
    },
    {
      "cell_type": "markdown",
      "source": [
        "**9. Write a python program to demonstrate method overloading.**"
      ],
      "metadata": {
        "id": "lQJg0R61--_R"
      }
    },
    {
      "cell_type": "code",
      "source": [
        "def sum(a,b=10,c=20):\n",
        "  return (a+b+c)\n",
        "def sum1(*args):\n",
        "  s=0\n",
        "  for i in args:\n",
        "    s+=i\n",
        "  print(s)\n",
        "\n",
        "print(\"Sum function with one parameter passed\",sum(10))\n",
        "print(\"Sum function with two parameter passed\",sum(10,20))\n",
        "print(\"Sum function with three parameter passed\",sum(10,20,30))\n",
        "print(\"Sum function with multiple parameter passed\")\n",
        "sum1(1,2,3,4,5,6,7)"
      ],
      "metadata": {
        "colab": {
          "base_uri": "https://localhost:8080/"
        },
        "id": "4P6O-mCo7IMP",
        "outputId": "7ca69ee0-9b10-4076-8e1a-2833c3ca7ed1"
      },
      "execution_count": null,
      "outputs": [
        {
          "output_type": "stream",
          "name": "stdout",
          "text": [
            "Sum function with one parameter passed 40\n",
            "Sum function with two parameter passed 50\n",
            "Sum function with three parameter passed 60\n",
            "Sum function with multiple parameter passed\n",
            "28\n"
          ]
        }
      ]
    },
    {
      "cell_type": "markdown",
      "source": [
        "**10. Write a program to demonstrate inheritance in python.**"
      ],
      "metadata": {
        "id": "u_xpCYfAA3-6"
      }
    },
    {
      "cell_type": "code",
      "source": [
        "class Person():\n",
        "  def __init__(self, name, age):\n",
        "    self.name = name\n",
        "    self.age = age\n",
        "\n",
        "  def display(self):\n",
        "    print(\"My name is\",self.name,\"my age is\",self.age)\n",
        "\n",
        "class Student(Person):\n",
        "  def __init__(self, name, age):\n",
        "    self.sName = name\n",
        "    self.sAge = age\n",
        "    # inheriting the properties of parent class\n",
        "    super().__init__(name, age)\n",
        "\n",
        "  def displaylike(self):\n",
        "    print(self.sName,\"likes chess, he is\", self.sAge,\"years old.\")\n",
        "\n",
        "obj = Student(\"Mayank\", 23)\n",
        "obj.display()\n",
        "obj.displaylike()"
      ],
      "metadata": {
        "id": "sRfvF2Ou3Ijs",
        "colab": {
          "base_uri": "https://localhost:8080/"
        },
        "outputId": "16b71fcd-6532-48bc-c3db-e668a9e6144a"
      },
      "execution_count": null,
      "outputs": [
        {
          "output_type": "stream",
          "name": "stdout",
          "text": [
            "My name is Mayank my age is 23\n",
            "Mayank likes chess, he is 23 years old.\n"
          ]
        }
      ]
    },
    {
      "cell_type": "markdown",
      "source": [
        "**11) Write a Python program to check that a string contains only a certain set of characters (in this case a-z, A-Z and 0-9).**"
      ],
      "metadata": {
        "id": "p7E8UpCOBIfg"
      }
    },
    {
      "cell_type": "code",
      "source": [
        "import re\n",
        "s=input(\"enter a string\")\n",
        "pattern=r'[^a-zA-Z0-9]'\n",
        "if re.findall(pattern,s):\n",
        "  print(\"String is not acceptable\")\n",
        "else:\n",
        "  print(\"string acceptable\")"
      ],
      "metadata": {
        "colab": {
          "base_uri": "https://localhost:8080/"
        },
        "id": "5d7QxTbaBQ-_",
        "outputId": "25ad3ec4-5a6e-4b2c-b612-f696b40e527a"
      },
      "execution_count": null,
      "outputs": [
        {
          "output_type": "stream",
          "name": "stdout",
          "text": [
            "enter a stringfjjfgj@jhxjvhdsf\n",
            "String is not acceptable\n"
          ]
        }
      ]
    },
    {
      "cell_type": "markdown",
      "source": [
        "**12) Write a Python program that matches a string that has an a followed by zero or more b**"
      ],
      "metadata": {
        "id": "400wn8TMDpNM"
      }
    },
    {
      "cell_type": "code",
      "source": [
        "import re\n",
        "s=input(\"enter a string \")\n",
        "patterns = 'a(b*)'\n",
        "if re.search(patterns,s):\n",
        "  print(\"String is acceptable\")\n",
        "else:\n",
        "  print(\"string not acceptable\")"
      ],
      "metadata": {
        "colab": {
          "base_uri": "https://localhost:8080/"
        },
        "id": "YNZUJRJpFAfI",
        "outputId": "18d96d75-c840-4386-be2a-69ed2d4b8b08"
      },
      "execution_count": null,
      "outputs": [
        {
          "output_type": "stream",
          "name": "stdout",
          "text": [
            "enter a string chjhjabggyfhb\n",
            "String is acceptable\n"
          ]
        }
      ]
    },
    {
      "cell_type": "markdown",
      "source": [
        "**13) Write a Python program that matches a string that has an a followed by one or more b's**"
      ],
      "metadata": {
        "id": "qqOdZTiGITyL"
      }
    },
    {
      "cell_type": "code",
      "source": [
        "import re\n",
        "s=input(\"enter a string \")\n",
        "patterns = 'a(b+)'\n",
        "if re.search(patterns,s):\n",
        "  print(\"String is acceptable\")\n",
        "else:\n",
        "  print(\"string not acceptable\")"
      ],
      "metadata": {
        "colab": {
          "base_uri": "https://localhost:8080/"
        },
        "id": "pnvHwUS-IbmW",
        "outputId": "f7172596-bb17-45e5-e4b0-3f8e04befb75"
      },
      "execution_count": null,
      "outputs": [
        {
          "output_type": "stream",
          "name": "stdout",
          "text": [
            "enter a string fyhfhfhabghhivb\n",
            "String is acceptable\n"
          ]
        }
      ]
    },
    {
      "cell_type": "markdown",
      "source": [
        "**14) Write a Python program that matches a string that has an a followed\n",
        "by zero or one 'b'**"
      ],
      "metadata": {
        "id": "bnPPMc7WIwC0"
      }
    },
    {
      "cell_type": "code",
      "source": [
        "import re\n",
        "s=input(\"enter a string \")\n",
        "patterns = 'ab{0,1}'\n",
        "if re.search(patterns,s):\n",
        "  print(\"String is acceptable\")\n",
        "else:\n",
        "  print(\"string not acceptable\")"
      ],
      "metadata": {
        "colab": {
          "base_uri": "https://localhost:8080/"
        },
        "id": "FhRldyz2JSDf",
        "outputId": "016cc6ca-f7c7-46dd-b2b9-d06d38f8e949"
      },
      "execution_count": null,
      "outputs": [
        {
          "output_type": "stream",
          "name": "stdout",
          "text": [
            "enter a string dtdtabbtet\n",
            "String is acceptable\n"
          ]
        }
      ]
    },
    {
      "cell_type": "markdown",
      "source": [
        "**15) Write a Python program that matches a string that has an a followed by three 'b'**"
      ],
      "metadata": {
        "id": "fFOoaYoMRifA"
      }
    },
    {
      "cell_type": "code",
      "source": [
        "import re\n",
        "s=input(\"enter a string \")\n",
        "patterns = 'ab{3}'\n",
        "if re.search(patterns,s):\n",
        "  print(\"String is acceptable\")\n",
        "else:\n",
        "  print(\"string not acceptable\")"
      ],
      "metadata": {
        "colab": {
          "base_uri": "https://localhost:8080/"
        },
        "id": "lDYKyNBMRlfU",
        "outputId": "9e555530-4e46-4282-a477-326a509a5e5d"
      },
      "execution_count": null,
      "outputs": [
        {
          "output_type": "stream",
          "name": "stdout",
          "text": [
            "enter a string dgdgdgabbbdgd\n",
            "String is acceptable\n"
          ]
        }
      ]
    },
    {
      "cell_type": "markdown",
      "source": [
        "**16) Write a Python program that matches a string that has an a followed by two to three 'b'.**"
      ],
      "metadata": {
        "id": "6hDhVdF_R6YT"
      }
    },
    {
      "cell_type": "code",
      "source": [
        "import re\n",
        "s=input(\"enter a string \")\n",
        "patterns = 'ab{2,3}'\n",
        "if re.search(patterns,s):\n",
        "  print(\"String is acceptable\")\n",
        "else:\n",
        "  print(\"string not acceptable\")"
      ],
      "metadata": {
        "colab": {
          "base_uri": "https://localhost:8080/"
        },
        "id": "P7KMMAT2R-zi",
        "outputId": "3a5c824f-9d94-4a81-f93d-a1cd0d5596a6"
      },
      "execution_count": null,
      "outputs": [
        {
          "output_type": "stream",
          "name": "stdout",
          "text": [
            "enter a string dgdgdgabbbdgd\n",
            "String is acceptable\n"
          ]
        }
      ]
    },
    {
      "cell_type": "markdown",
      "source": [
        "**17) Write a Python program to find sequences of lowercase letters joined with a underscore.**"
      ],
      "metadata": {
        "id": "0iWSwQrCSKSj"
      }
    },
    {
      "cell_type": "code",
      "source": [
        "import re\n",
        "s=input(\"enter a string \")\n",
        "patterns = '[a-z]_[a-z]'\n",
        "if re.search(patterns,s):\n",
        "  print(\"String is acceptable\",re.search(patterns,s))\n",
        "else:\n",
        "  print(\"string not acceptable\")"
      ],
      "metadata": {
        "colab": {
          "base_uri": "https://localhost:8080/"
        },
        "id": "z70qyi4JSNQJ",
        "outputId": "98c6221c-b7ab-43ba-a425-a7e18f4c78e3"
      },
      "execution_count": null,
      "outputs": [
        {
          "output_type": "stream",
          "name": "stdout",
          "text": [
            "enter a string python_programming\n",
            "String is acceptable <re.Match object; span=(5, 8), match='n_p'>\n"
          ]
        }
      ]
    },
    {
      "cell_type": "markdown",
      "source": [
        "**18) Write a Python program to find the sequences of one upper case letter followed by lower case letters.**"
      ],
      "metadata": {
        "id": "8VoRSD-XTETz"
      }
    },
    {
      "cell_type": "code",
      "source": [
        "import re\n",
        "s=input(\"enter a string \")\n",
        "patterns = '[A-Z][a-z]'\n",
        "if re.findall(patterns,s):\n",
        "  print(\"String is acceptable\",re.findall(patterns,s))\n",
        "else:\n",
        "  print(\"string not acceptable\")"
      ],
      "metadata": {
        "colab": {
          "base_uri": "https://localhost:8080/"
        },
        "id": "_BDLWxIDS0F1",
        "outputId": "e0df3927-5b8b-4d67-cd6a-b2cf9c96b48a"
      },
      "execution_count": null,
      "outputs": [
        {
          "output_type": "stream",
          "name": "stdout",
          "text": [
            "enter a string AdgdjdAfgdhtd\n",
            "String is acceptable ['Ad', 'Af']\n"
          ]
        }
      ]
    },
    {
      "cell_type": "markdown",
      "source": [
        "**19) Write a Python program that matches a string that has an 'a' followed by anything, ending in 'b'.**"
      ],
      "metadata": {
        "id": "VaxJUBQITtNi"
      }
    },
    {
      "cell_type": "code",
      "source": [
        "import re\n",
        "s=input(\"enter a string \")\n",
        "patterns = 'a*b$'\n",
        "if re.findall(patterns,s):\n",
        "  print(\"String is acceptable\")\n",
        "else:\n",
        "  print(\"string not acceptable\")"
      ],
      "metadata": {
        "colab": {
          "base_uri": "https://localhost:8080/"
        },
        "id": "BlNIj5efTy80",
        "outputId": "2b204d81-1f21-4502-94b2-93db6fd18236"
      },
      "execution_count": null,
      "outputs": [
        {
          "output_type": "stream",
          "name": "stdout",
          "text": [
            "enter a string gfagfjgjbgugfub\n",
            "String is acceptable\n"
          ]
        }
      ]
    },
    {
      "cell_type": "markdown",
      "source": [
        "**20) Write a Python program that matches a word at the beginning of a string.**"
      ],
      "metadata": {
        "id": "jE4im3MkU7t-"
      }
    },
    {
      "cell_type": "code",
      "source": [
        "import re\n",
        "s=input(\"enter a string \")\n",
        "wr=input(\"enter a eneter a word \")\n",
        "patterns = f\"^{wr}\"\n",
        "if re.search(patterns,s):\n",
        "  print(\"String is acceptable\",re.search(patterns,s))\n",
        "else:\n",
        "  print(\"string not acceptable\")"
      ],
      "metadata": {
        "colab": {
          "base_uri": "https://localhost:8080/"
        },
        "id": "i6tY1hy3VAdD",
        "outputId": "d501311b-2850-4244-cec1-b28145ec1042"
      },
      "execution_count": null,
      "outputs": [
        {
          "output_type": "stream",
          "name": "stdout",
          "text": [
            "enter a string python_programming\n",
            "enter a eneter a word python\n",
            "String is acceptable <re.Match object; span=(0, 6), match='python'>\n"
          ]
        }
      ]
    },
    {
      "cell_type": "markdown",
      "source": [
        "**21) Write a Python program that matches a word at the end of a string, with optional punctuation.**"
      ],
      "metadata": {
        "id": "zBeNo173U_vx"
      }
    },
    {
      "cell_type": "code",
      "source": [
        "#r'\\b\\w+\\b[.,;!?]*$\n",
        "import re\n",
        "s=input(\"enter a string \")\n",
        "wr=input(\"enter a eneter a word \")\n",
        "patterns = f\"{wr}[.,;!?]*$\"\n",
        "if re.search(patterns,s):\n",
        "  print(\"String is acceptable\",re.search(patterns,s))\n",
        "else:\n",
        "  print(\"string not acceptable\")"
      ],
      "metadata": {
        "colab": {
          "base_uri": "https://localhost:8080/"
        },
        "id": "fUMhTn908Zfb",
        "outputId": "248c0b63-54d5-4a2a-dbfe-37c64b6105e7"
      },
      "execution_count": null,
      "outputs": [
        {
          "output_type": "stream",
          "name": "stdout",
          "text": [
            "enter a string everyone bye!\n",
            "enter a eneter a word bye\n",
            "String is acceptable <re.Match object; span=(9, 13), match='bye!'>\n"
          ]
        }
      ]
    },
    {
      "cell_type": "markdown",
      "source": [
        "**22) Write a Python program that matches a word containing 'z'**"
      ],
      "metadata": {
        "id": "GtNv2KTPTKIm"
      }
    },
    {
      "cell_type": "code",
      "source": [
        "import re\n",
        "s=input(\"enter a string \")\n",
        "patterns ='\\w*z.\\w*'\n",
        "if re.findall(patterns,s):\n",
        "  print(\"String is acceptable\",re.findall(patterns,s))\n",
        "else:\n",
        "  print(\"string not acceptable\")\n"
      ],
      "metadata": {
        "colab": {
          "base_uri": "https://localhost:8080/"
        },
        "id": "xosKf_b1TQpk",
        "outputId": "d92323bc-32c3-441d-e65f-689f9a6bb8e0"
      },
      "execution_count": null,
      "outputs": [
        {
          "output_type": "stream",
          "name": "stdout",
          "text": [
            "enter a string hello ozone zebra\n",
            "String is acceptable ['ozone', 'zebra']\n"
          ]
        }
      ]
    },
    {
      "cell_type": "markdown",
      "source": [
        "**23) Write a Python program that matches a word containing 'z', not at the start or end of the word.**"
      ],
      "metadata": {
        "id": "3v8uBQ4ed5XX"
      }
    },
    {
      "cell_type": "code",
      "source": [
        "import re\n",
        "s=input(\"enter a string \")\n",
        "patterns ='\\w+z.\\w+'\n",
        "if re.findall(patterns,s):\n",
        "  print(\"String is acceptable\",re.findall(patterns,s))\n",
        "else:\n",
        "  print(\"string not acceptable\")"
      ],
      "metadata": {
        "colab": {
          "base_uri": "https://localhost:8080/"
        },
        "id": "CHw_UCNyd9kK",
        "outputId": "9f6ae496-1315-4169-90ec-bf52b2bffe64"
      },
      "execution_count": null,
      "outputs": [
        {
          "output_type": "stream",
          "name": "stdout",
          "text": [
            "enter a string hello ozone zebra\n",
            "String is acceptable ['ozone']\n"
          ]
        }
      ]
    },
    {
      "cell_type": "markdown",
      "source": [
        "**24) Write a Python program to match a string that contains only upper and lowercase letters, numbers, and underscores.**"
      ],
      "metadata": {
        "id": "QLcUVsiJd8yP"
      }
    },
    {
      "cell_type": "code",
      "source": [
        "import re\n",
        "s=input(\"enter a string \")\n",
        "patterns ='^\\w*$'\n",
        "if re.findall(patterns,s):\n",
        "  print(\"String is acceptable\",re.findall(patterns,s))\n",
        "else:\n",
        "  print(\"string not acceptable\")"
      ],
      "metadata": {
        "colab": {
          "base_uri": "https://localhost:8080/"
        },
        "id": "d4MVgO8HePhU",
        "outputId": "8e8fddaf-e13d-4cac-852e-43c25c68f46c"
      },
      "execution_count": null,
      "outputs": [
        {
          "output_type": "stream",
          "name": "stdout",
          "text": [
            "enter a string helloeveryone3697_\n",
            "String is acceptable ['helloeveryone3697_']\n"
          ]
        }
      ]
    },
    {
      "cell_type": "markdown",
      "source": [
        "**25) Write a Python program where a string will start with a specific number.**"
      ],
      "metadata": {
        "id": "bZ3dJ-VcfSqX"
      }
    },
    {
      "cell_type": "code",
      "source": [
        "import re\n",
        "s=input(\"enter a string \")\n",
        "num=input(\"enter a eneter a number \")\n",
        "patterns = f\"^{num}\"\n",
        "if re.search(patterns,s):\n",
        "  print(\"String is acceptable\",re.search(patterns,s))\n",
        "else:\n",
        "  print(\"string not acceptable\")"
      ],
      "metadata": {
        "colab": {
          "base_uri": "https://localhost:8080/"
        },
        "id": "ty2AtpWvfV-f",
        "outputId": "d0d61a45-45ee-41d0-a055-1e53d50bc4d5"
      },
      "execution_count": null,
      "outputs": [
        {
          "output_type": "stream",
          "name": "stdout",
          "text": [
            "enter a string 12345567hello\n",
            "enter a eneter a number 1\n",
            "String is acceptable <re.Match object; span=(0, 1), match='1'>\n"
          ]
        }
      ]
    },
    {
      "cell_type": "markdown",
      "source": [
        "**26) Write a Python program to remove leading zeros from an IP address**"
      ],
      "metadata": {
        "id": "inf8WMbIrM7M"
      }
    },
    {
      "cell_type": "code",
      "source": [
        "import re\n",
        "ip =\"001.200.001.004\"\n",
        "new_ip = re.sub(r'\\b0+(\\d)', r'\\1', ip)\n",
        "print(new_ip)\n"
      ],
      "metadata": {
        "colab": {
          "base_uri": "https://localhost:8080/"
        },
        "id": "0n3Ycwn7q2xO",
        "outputId": "78960e07-97cc-41ec-cdb1-d075a314be7a"
      },
      "execution_count": null,
      "outputs": [
        {
          "output_type": "stream",
          "name": "stdout",
          "text": [
            "1.200.1.4\n"
          ]
        }
      ]
    },
    {
      "cell_type": "markdown",
      "source": [
        "**27) Write a Python program to check for a number at the end of a string.**"
      ],
      "metadata": {
        "id": "HJA76LZ3rVzM"
      }
    },
    {
      "cell_type": "code",
      "source": [
        "import re\n",
        "s=input(\"enter a string \")\n",
        "num=input(\"enter a eneter a number \")\n",
        "patterns = f\"{num}$\"\n",
        "if re.search(patterns,s):\n",
        "  print(\"String is acceptable\",re.search(patterns,s))\n",
        "else:\n",
        "  print(\"string not acceptable\")"
      ],
      "metadata": {
        "colab": {
          "base_uri": "https://localhost:8080/"
        },
        "id": "V2WFvJ-Prajh",
        "outputId": "eefa7384-6989-4b35-b67e-628df8746d78"
      },
      "execution_count": null,
      "outputs": [
        {
          "output_type": "stream",
          "name": "stdout",
          "text": [
            "enter a string hsfsdgfdh7895\n",
            "enter a eneter a number 5\n",
            "String is acceptable <re.Match object; span=(12, 13), match='5'>\n"
          ]
        }
      ]
    },
    {
      "cell_type": "markdown",
      "source": [
        "**28) Write a Python program to search the numbers (0-9) of length between 1 to 3 in a given string.**"
      ],
      "metadata": {
        "id": "-BJqQv97roBP"
      }
    },
    {
      "cell_type": "code",
      "source": [
        "import re\n",
        "def search_numbers(string):\n",
        "    results = re.findall(r'\\b\\d{1,3}\\b', string)\n",
        "    return results\n",
        "string = input(\"Enter a string \")\n",
        "numbers = search_numbers(string)\n",
        "print(numbers)"
      ],
      "metadata": {
        "colab": {
          "base_uri": "https://localhost:8080/"
        },
        "id": "0QPmBOMjrtLs",
        "outputId": "ef31d137-413a-4e01-c5b9-c1310c42e28e"
      },
      "execution_count": null,
      "outputs": [
        {
          "output_type": "stream",
          "name": "stdout",
          "text": [
            "Enter a string my 123 your 123456789\n",
            "['123']\n"
          ]
        }
      ]
    },
    {
      "cell_type": "markdown",
      "source": [
        "**29) Write a Python program to replace whitespaces with an underscore and vice versa.**"
      ],
      "metadata": {
        "id": "BgtlDl0pr6F1"
      }
    },
    {
      "cell_type": "code",
      "source": [
        "import re\n",
        "\n",
        "def replace_whitespace(s):\n",
        "  pattern=r' '\n",
        "  pattern1=r'_'\n",
        "  if re.search(patterns,s):\n",
        "    string = s.replace(\" \", \"_\")\n",
        "  if re.search(pattern1,s):\n",
        "    string = s.replace(\"_\", \" \")\n",
        "  return string\n",
        "\n",
        "\n",
        "text = input(\"Enter a string \")\n",
        "print(replace_whitespace(text))\n"
      ],
      "metadata": {
        "colab": {
          "base_uri": "https://localhost:8080/"
        },
        "id": "1FKA7tJKr-Ya",
        "outputId": "377dd8b9-d492-488e-f71a-c36cd23a5737"
      },
      "execution_count": null,
      "outputs": [
        {
          "output_type": "stream",
          "name": "stdout",
          "text": [
            "Enter a string Hello_World\n",
            "Hello World\n"
          ]
        }
      ]
    },
    {
      "cell_type": "markdown",
      "source": [
        "**30) Write a Python program to convert a date of yyyy-mm-dd format to dd-mm-yyyy format.**"
      ],
      "metadata": {
        "id": "XH6PiStNr951"
      }
    },
    {
      "cell_type": "code",
      "source": [
        "s= input(\"Enter date in yyyy-mm-dd format \")\n",
        "re.sub(r'(\\d{4})-(\\d{1,2})-(\\d{1,2})', '\\\\3-\\\\2-\\\\1',s)"
      ],
      "metadata": {
        "colab": {
          "base_uri": "https://localhost:8080/",
          "height": 53
        },
        "id": "XOVm22qIucgq",
        "outputId": "719d4d6a-daa4-46b4-d41c-4009153f2349"
      },
      "execution_count": null,
      "outputs": [
        {
          "name": "stdout",
          "output_type": "stream",
          "text": [
            "Enter date in yyyy-mm-dd format 2023-11-05\n"
          ]
        },
        {
          "output_type": "execute_result",
          "data": {
            "text/plain": [
              "'05-11-2023'"
            ],
            "application/vnd.google.colaboratory.intrinsic+json": {
              "type": "string"
            }
          },
          "metadata": {},
          "execution_count": 39
        }
      ]
    },
    {
      "cell_type": "markdown",
      "source": [
        "**31) Write a Python program to separate and print the numbers of a given string.**"
      ],
      "metadata": {
        "id": "t-76G7Ttufc3"
      }
    },
    {
      "cell_type": "code",
      "source": [
        "import re\n",
        "s= input(\"Enter a string \")\n",
        "list = re.findall(\"[0-9]\",s)\n",
        "print(list)"
      ],
      "metadata": {
        "colab": {
          "base_uri": "https://localhost:8080/"
        },
        "id": "lFAmstWa0KT1",
        "outputId": "e013ebd5-9fca-4cdc-84d4-794c266f7e4a"
      },
      "execution_count": null,
      "outputs": [
        {
          "output_type": "stream",
          "name": "stdout",
          "text": [
            "Enter a string my 1123 hello 2556\n",
            "['1', '1', '2', '3', '2', '5', '5', '6']\n"
          ]
        }
      ]
    },
    {
      "cell_type": "markdown",
      "source": [
        "**32) Write a Python program to find all words starting with 'a' or 'e' in a given string.**"
      ],
      "metadata": {
        "id": "AbTNl1SQuitF"
      }
    },
    {
      "cell_type": "code",
      "source": [
        "import re\n",
        "s= input(\"Enter a string \")\n",
        "list = re.findall(\"\\s[ae]\\w+\",s)\n",
        "# Print result.\n",
        "print(list)"
      ],
      "metadata": {
        "colab": {
          "base_uri": "https://localhost:8080/"
        },
        "id": "Ae87_U4Fximg",
        "outputId": "ec36714c-66c5-49f8-f7d2-d1746e326896"
      },
      "execution_count": null,
      "outputs": [
        {
          "output_type": "stream",
          "name": "stdout",
          "text": [
            "Enter a string hello everyone apples are red\n",
            "[' everyone', ' apples', ' are']\n"
          ]
        }
      ]
    },
    {
      "cell_type": "markdown",
      "source": [
        "**33) Write a Python program to abbreviate 'Road' as 'Rd.' in a given string.**"
      ],
      "metadata": {
        "id": "6dYGCQY8um7o"
      }
    },
    {
      "cell_type": "code",
      "source": [
        "import re\n",
        "s= input(\"Enter a string\")\n",
        "l=re.sub('Road',\"Rd.\",s)\n",
        "print(l)"
      ],
      "metadata": {
        "colab": {
          "base_uri": "https://localhost:8080/"
        },
        "id": "fogknkDFvkQx",
        "outputId": "2e0221fd-02a3-419b-bf6a-713f8d710d18"
      },
      "execution_count": null,
      "outputs": [
        {
          "output_type": "stream",
          "name": "stdout",
          "text": [
            "Enter a stringcivil line Road\n",
            "civil line Rd.\n"
          ]
        }
      ]
    }
  ]
}